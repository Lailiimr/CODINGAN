{
  "cells": [
    {
      "cell_type": "markdown",
      "metadata": {
        "id": "view-in-github",
        "colab_type": "text"
      },
      "source": [
        "<a href=\"https://colab.research.google.com/github/Lailiimr/Studi-Independent/blob/main/Laili_Miftachur_Rohmah_JM_4%265_ChatbotAI_Text_to_Speech.ipynb\" target=\"_parent\"><img src=\"https://colab.research.google.com/assets/colab-badge.svg\" alt=\"Open In Colab\"/></a>"
      ]
    },
    {
      "cell_type": "markdown",
      "metadata": {
        "id": "za1gVNL5CRGY"
      },
      "source": [
        "# AI Chatbot in Python\n",
        "> Chatbot sederhana ini menggunakan konsep sederhana penerapan Cosine Similarity\n",
        "\n",
        "> Disini program Chatbot dibuat dengan sesuai kebutuhan pengguna, jadi kita bisa memilih apakah harus membuat program ini bisa bekerja pada topik tertentu, misalnya untuk Chatbot berbasis Covid-19, atau yang lainnya yang sedang relevan."
      ]
    },
    {
      "cell_type": "code",
      "execution_count": 1,
      "metadata": {
        "id": "yE4rWjtACRGf"
      },
      "outputs": [],
      "source": [
        "#sumber materi : https://towardsdatascience.com/making-a-simple-and-fast-chatbot-in-10-minutes-2d84a4ba35e\n",
        "#https://youtu.be/9KZwRBg4-P0"
      ]
    },
    {
      "cell_type": "markdown",
      "metadata": {
        "id": "YZW2gMYW-ZBR"
      },
      "source": [
        "# Tools scraping Artikel\n",
        "\n",
        "Pada program kali ini kita akan mengambil teks dari internet menggunakan tools newspaper3k, dimana tools ini memiliki beberapa kelebihan yaitu:\n",
        "1. Kerangka kerja dalam mengunduh artikel yang multi-thread\n",
        "2. Dapat mengidentifikasi URL baru\n",
        "3. Mampu mengekstraksi teks dari HTML\n",
        "4. Terbaik dalam hal ekstraksi gambar dari HTML\n",
        "5. Mampu mengekstraksi semua gambar dari HTML\n",
        "6. Dapat mengekstraksi kata kunci dari teks\n",
        "7. Dapat mengekstrak ringkasan teks\n",
        "8. Dapat mengekstraksi nama penulis suatu artikel\n",
        "9. Dapat mengekstraksi istilah yang sedang trend di mesin pencarian Google\n",
        "10. Dapat bekerja lebih dari 10 bahasa (termasuk Inggris, Jerman, Arab, China, dll)"
      ]
    },
    {
      "cell_type": "code",
      "execution_count": 2,
      "metadata": {
        "colab": {
          "base_uri": "https://localhost:8080/"
        },
        "id": "Q9_mnPq6NPUy",
        "outputId": "d94da16c-1235-4b86-fe22-4c69fb42feee"
      },
      "outputs": [
        {
          "output_type": "stream",
          "name": "stdout",
          "text": [
            "Collecting gtts\n",
            "  Downloading gTTS-2.2.4-py3-none-any.whl (26 kB)\n",
            "Requirement already satisfied: click in /usr/local/lib/python3.7/dist-packages (from gtts) (7.1.2)\n",
            "Requirement already satisfied: requests in /usr/local/lib/python3.7/dist-packages (from gtts) (2.23.0)\n",
            "Requirement already satisfied: six in /usr/local/lib/python3.7/dist-packages (from gtts) (1.15.0)\n",
            "Requirement already satisfied: chardet<4,>=3.0.2 in /usr/local/lib/python3.7/dist-packages (from requests->gtts) (3.0.4)\n",
            "Requirement already satisfied: certifi>=2017.4.17 in /usr/local/lib/python3.7/dist-packages (from requests->gtts) (2021.10.8)\n",
            "Requirement already satisfied: idna<3,>=2.5 in /usr/local/lib/python3.7/dist-packages (from requests->gtts) (2.10)\n",
            "Requirement already satisfied: urllib3!=1.25.0,!=1.25.1,<1.26,>=1.21.1 in /usr/local/lib/python3.7/dist-packages (from requests->gtts) (1.24.3)\n",
            "Installing collected packages: gtts\n",
            "Successfully installed gtts-2.2.4\n"
          ]
        }
      ],
      "source": [
        "!pip install gtts"
      ]
    },
    {
      "cell_type": "code",
      "execution_count": 3,
      "metadata": {
        "colab": {
          "base_uri": "https://localhost:8080/"
        },
        "id": "ye3nyhSyCRGi",
        "outputId": "492d7760-22d2-48d3-abf5-eea04ec8fe81"
      },
      "outputs": [
        {
          "output_type": "stream",
          "name": "stdout",
          "text": [
            "Collecting newspaper3k\n",
            "  Downloading newspaper3k-0.2.8-py3-none-any.whl (211 kB)\n",
            "\u001b[K     |████████████████████████████████| 211 kB 10.7 MB/s \n",
            "\u001b[?25hCollecting feedfinder2>=0.0.4\n",
            "  Downloading feedfinder2-0.0.4.tar.gz (3.3 kB)\n",
            "Collecting cssselect>=0.9.2\n",
            "  Downloading cssselect-1.1.0-py2.py3-none-any.whl (16 kB)\n",
            "Collecting feedparser>=5.2.1\n",
            "  Downloading feedparser-6.0.8-py3-none-any.whl (81 kB)\n",
            "\u001b[K     |████████████████████████████████| 81 kB 8.7 MB/s \n",
            "\u001b[?25hRequirement already satisfied: beautifulsoup4>=4.4.1 in /usr/local/lib/python3.7/dist-packages (from newspaper3k) (4.6.3)\n",
            "Collecting jieba3k>=0.35.1\n",
            "  Downloading jieba3k-0.35.1.zip (7.4 MB)\n",
            "\u001b[K     |████████████████████████████████| 7.4 MB 52.6 MB/s \n",
            "\u001b[?25hRequirement already satisfied: nltk>=3.2.1 in /usr/local/lib/python3.7/dist-packages (from newspaper3k) (3.2.5)\n",
            "Requirement already satisfied: python-dateutil>=2.5.3 in /usr/local/lib/python3.7/dist-packages (from newspaper3k) (2.8.2)\n",
            "Requirement already satisfied: Pillow>=3.3.0 in /usr/local/lib/python3.7/dist-packages (from newspaper3k) (7.1.2)\n",
            "Requirement already satisfied: requests>=2.10.0 in /usr/local/lib/python3.7/dist-packages (from newspaper3k) (2.23.0)\n",
            "Collecting tinysegmenter==0.3\n",
            "  Downloading tinysegmenter-0.3.tar.gz (16 kB)\n",
            "Collecting tldextract>=2.0.1\n",
            "  Downloading tldextract-3.2.1-py3-none-any.whl (87 kB)\n",
            "\u001b[K     |████████████████████████████████| 87 kB 6.7 MB/s \n",
            "\u001b[?25hRequirement already satisfied: lxml>=3.6.0 in /usr/local/lib/python3.7/dist-packages (from newspaper3k) (4.2.6)\n",
            "Requirement already satisfied: PyYAML>=3.11 in /usr/local/lib/python3.7/dist-packages (from newspaper3k) (3.13)\n",
            "Requirement already satisfied: six in /usr/local/lib/python3.7/dist-packages (from feedfinder2>=0.0.4->newspaper3k) (1.15.0)\n",
            "Collecting sgmllib3k\n",
            "  Downloading sgmllib3k-1.0.0.tar.gz (5.8 kB)\n",
            "Requirement already satisfied: chardet<4,>=3.0.2 in /usr/local/lib/python3.7/dist-packages (from requests>=2.10.0->newspaper3k) (3.0.4)\n",
            "Requirement already satisfied: certifi>=2017.4.17 in /usr/local/lib/python3.7/dist-packages (from requests>=2.10.0->newspaper3k) (2021.10.8)\n",
            "Requirement already satisfied: idna<3,>=2.5 in /usr/local/lib/python3.7/dist-packages (from requests>=2.10.0->newspaper3k) (2.10)\n",
            "Requirement already satisfied: urllib3!=1.25.0,!=1.25.1,<1.26,>=1.21.1 in /usr/local/lib/python3.7/dist-packages (from requests>=2.10.0->newspaper3k) (1.24.3)\n",
            "Requirement already satisfied: filelock>=3.0.8 in /usr/local/lib/python3.7/dist-packages (from tldextract>=2.0.1->newspaper3k) (3.6.0)\n",
            "Collecting requests-file>=1.4\n",
            "  Downloading requests_file-1.5.1-py2.py3-none-any.whl (3.7 kB)\n",
            "Building wheels for collected packages: tinysegmenter, feedfinder2, jieba3k, sgmllib3k\n",
            "  Building wheel for tinysegmenter (setup.py) ... \u001b[?25l\u001b[?25hdone\n",
            "  Created wheel for tinysegmenter: filename=tinysegmenter-0.3-py3-none-any.whl size=13553 sha256=344f6f2dfdb0fe2c5ea09a422cdbaa9ed0aedc6b0bdbfd43e840eba63d47209a\n",
            "  Stored in directory: /root/.cache/pip/wheels/df/67/41/faca10fa501ca010be41b49d40360c2959e1c4f09bcbfa37fa\n",
            "  Building wheel for feedfinder2 (setup.py) ... \u001b[?25l\u001b[?25hdone\n",
            "  Created wheel for feedfinder2: filename=feedfinder2-0.0.4-py3-none-any.whl size=3357 sha256=c0e052b44900ab046068c2b26b85e5066e57a00e8c1c01f9fc159f132066d67e\n",
            "  Stored in directory: /root/.cache/pip/wheels/7f/d4/8f/6e2ca54744c9d7292d88ddb8d42876bcdab5e6d84a21c10346\n",
            "  Building wheel for jieba3k (setup.py) ... \u001b[?25l\u001b[?25hdone\n",
            "  Created wheel for jieba3k: filename=jieba3k-0.35.1-py3-none-any.whl size=7398404 sha256=de1ceabca0a042ca2809714178b428f26a413c35cec34add1024ca876b266439\n",
            "  Stored in directory: /root/.cache/pip/wheels/4c/91/46/3c208287b726df325a5979574324878b679116e4baae1af3c3\n",
            "  Building wheel for sgmllib3k (setup.py) ... \u001b[?25l\u001b[?25hdone\n",
            "  Created wheel for sgmllib3k: filename=sgmllib3k-1.0.0-py3-none-any.whl size=6066 sha256=99fb34f3fe738b6e420bf2c283c301ea1a3273a867acf0734f827e08af86b436\n",
            "  Stored in directory: /root/.cache/pip/wheels/73/ad/a4/0dff4a6ef231fc0dfa12ffbac2a36cebfdddfe059f50e019aa\n",
            "Successfully built tinysegmenter feedfinder2 jieba3k sgmllib3k\n",
            "Installing collected packages: sgmllib3k, requests-file, tldextract, tinysegmenter, jieba3k, feedparser, feedfinder2, cssselect, newspaper3k\n",
            "Successfully installed cssselect-1.1.0 feedfinder2-0.0.4 feedparser-6.0.8 jieba3k-0.35.1 newspaper3k-0.2.8 requests-file-1.5.1 sgmllib3k-1.0.0 tinysegmenter-0.3 tldextract-3.2.1\n"
          ]
        }
      ],
      "source": [
        "!pip install newspaper3k"
      ]
    },
    {
      "cell_type": "code",
      "execution_count": 4,
      "metadata": {
        "id": "4FGmgeEECRGi"
      },
      "outputs": [],
      "source": [
        "# Import library\n",
        "from newspaper import Article\n",
        "import random\n",
        "import nltk\n",
        "import string\n",
        "from sklearn.feature_extraction.text import CountVectorizer\n",
        "from sklearn.metrics.pairwise import cosine_similarity\n",
        "import numpy as np\n",
        "import pandas as pd\n",
        "import warnings\n",
        "import re\n",
        "warnings.filterwarnings('ignore')\n",
        "\n",
        "from gtts import gTTS\n",
        "import IPython.display as ipd\n",
        "import time\n",
        "from io import BytesIO"
      ]
    },
    {
      "cell_type": "code",
      "execution_count": 5,
      "metadata": {
        "colab": {
          "base_uri": "https://localhost:8080/"
        },
        "id": "Sa8BD2nwCRGj",
        "outputId": "4b556bd4-7556-4f5b-98e0-02f0129d34f3"
      },
      "outputs": [
        {
          "output_type": "execute_result",
          "data": {
            "text/plain": [
              "True"
            ]
          },
          "metadata": {},
          "execution_count": 5
        }
      ],
      "source": [
        "nltk.download('punkt', quiet=True)"
      ]
    },
    {
      "cell_type": "markdown",
      "metadata": {
        "id": "LTnOWF68CRGk"
      },
      "source": [
        "# Proses 1 (Membuat korpus dengan mendownload artikel dari sebuah link)\n",
        "\n",
        "Link dapat diganti dengan link teks berbhasa Indonesia, tetapi kali ini kita mencoba menggunakan teks berbahasa Inggris terlebih dahulu. "
      ]
    },
    {
      "cell_type": "code",
      "execution_count": 6,
      "metadata": {
        "colab": {
          "base_uri": "https://localhost:8080/"
        },
        "id": "otZH3R0eCRGk",
        "outputId": "26ca8788-b532-41db-9ebd-83583f6de36f"
      },
      "outputs": [
        {
          "output_type": "stream",
          "name": "stdout",
          "text": [
            "Learn more from kidney doctor Andrew Bentall, M.D.\n",
            "\n",
            "I'm Dr. Andrew Bentall, a kidney doctor at Mayo Clinic. I look after patients with kidney disease, either in the early stages, or with more advanced kidney disease considering dialysis and transplantation as treatment options. In this video, we'll cover the basics of chronic kidney disease. What is it? Who gets it? The symptoms, diagnosis and treatment. Whether you are looking for answers for yourself or for someone you love, we're here to give you the best information available.\n",
            "\n",
            "Chronic kidney disease is a disease characterized by progressive damage and loss of function in the kidneys. It's estimated that chronic kidney disease affects about one in seven American adults. And most of those don't know they have it. Before we get into the disease itself, let's talk a little bit about the kidneys and what they do. Our kidneys play many important roles keeping our bodies in balance. They remove waste and toxins, excess water from the bloodstream, which is carried out of the body in urine. They helped to make hormones to produce red blood cells, and they turn vitamin D into its active form, so it's usable in the body.\n",
            "\n",
            "There are quite a few things that can cause or put you at higher risk for chronic kidney disease. Some of them are not things that can be avoided. Your risk is simply higher if you have a family history of certain genetic conditions like polycystic kidney disease or some autoimmune diseases like lupus or IgA nephropathy. Defects in the kidney structure can also cause your kidneys to fail, and you have an increased risk as you get older. Sometimes, other common medical conditions can increase your risk. Diabetes is the most common cause of kidney disease. Both type 1 and type 2 diabetes. But also heart disease and obesity can contribute to the damage that causes kidneys to fail. Urinary tract issues and inflammation in different parts of the kidney can also lead to long-term functional decline. There are things that are more under our control: Heavy or long-term use of certain medications, even those that are common over-the-counter. Smoking can also be a contributing factor to chronic kidney disease.\n",
            "\n",
            "Often there are no outward signs in the earlier stages of chronic kidney disease, which is grouped into stages 1 through 5. Generally, earlier stages are known as 1 to 3. And as kidney disease progresses, you may notice the following symptoms. Nausea and vomiting, muscle cramps, loss of appetite, swelling via feet and ankles, dry, itchy skin, shortness of breath, trouble sleeping, urinating either too much or too little. However, these are usually in the later stages, but they can also happen in other disorders. So don't automatically interpret this as having kidney disease. But if you're experiencing anything that concerns you, you should make an appointment with your doctor.\n",
            "\n",
            "Even before any symptoms appear, routine blood work can indicate that you might be in the early stages of chronic kidney disease. And the earlier it's detected, the easier it is to treat. This is why regular checkups with your doctor are important. If your doctor suspects the onset of chronic kidney disease, they may schedule a variety of other tests. They may also refer you to a kidney specialist, a nephrologist like myself. Urine tests can reveal abnormalities and give clues to the underlying cause of the chronic kidney disease. And this can also help to determine the underlying issues. Various imaging tests like ultrasounds or CT scans can be done to help your doctor assess the size, the structure, as well as evaluate the visible damage, inflammation or stones of your kidneys. And in some cases, a kidney biopsy may be necessary. And a small amount of tissue is taken with a needle and sent to the pathologist for further analysis.\n",
            "\n",
            "Treatment is determined by what is causing your kidneys to not function normally. Treating the cause is key, leading to reduced complications and slowing progression of kidney disease. For example, getting better blood pressure control, improved sugar control and diabetes, and reducing weight are often key interventions. However, existing damage is not usually reversible. In some conditions, treatment can reverse the cause of the disease. So seeking medical review is really important. Individual complications vary, but treatment might include high blood pressure medication, diuretics to reduce fluid and swelling, supplements to relieve anemia, statins to lower cholesterol, or medications to protect your bones and prevent blood vessel calcification. A lower-protein diet may also be recommended. It reduces the amount of waste your kidneys need to filter from your blood. These can not only slow the damage of kidney disease, but make you feel better as well. When the damage has progressed to the point that 85 to 90 percent of your kidney function is gone, and they no longer work well enough to keep you alive, it's called end-stage kidney failure. But there are still options. There's dialysis, which uses a machine to filter the toxins and remove water from your body as your kidneys are no longer able to do this. Where possible, the preferred therapy is a kidney transplant. While an organ transplant can sound daunting, it's actually often the better alternative, and the closest thing to a cure, if you qualify for a kidney transplant.\n",
            "\n",
            "If you have kidney disease, there are lifestyle choices. Namely quit smoking. Consuming alcohol in moderation. If you're overweight or obese, then try to lose weight. Staying active and getting exercise can help not only with your weight, but fatigue and stress. If your condition allows, keep up with your routine, whether that's working, hobbies, social activities, or other things you enjoy. It can be helpful to talk to someone you trust, a friend or relative who's good at listening. Or your doctor could also refer you to a therapist or social worker. It can also be helpful to find a support group and connect with people going through the same thing. Learning you have chronic kidney disease and learning how to live with it can be a challenge. But there are lots of ways to help you to be more comfortable for longer before more drastic measures are needed. And even then, there is plenty of hope. If you'd like to learn even more about chronic kidney disease, watch our other related videos or visit mayoclinic.org. We wish you well.\n"
          ]
        }
      ],
      "source": [
        "article = Article('https://www.mayoclinic.org/diseases-conditions/chronic-kidney-disease/symptoms-causes/syc-20354521')\n",
        "article.download()\n",
        "article.parse()\n",
        "article.nlp()\n",
        "corpus = article.text\n",
        "print(corpus)"
      ]
    },
    {
      "cell_type": "markdown",
      "metadata": {
        "id": "bGmRAQ9WCRGl"
      },
      "source": [
        "# Proses 2 (Tokenization)"
      ]
    },
    {
      "cell_type": "code",
      "execution_count": 7,
      "metadata": {
        "colab": {
          "base_uri": "https://localhost:8080/"
        },
        "id": "vh1UaZ3kCRGl",
        "outputId": "ada240b1-7581-4e86-a998-9c31016a622a"
      },
      "outputs": [
        {
          "output_type": "stream",
          "name": "stdout",
          "text": [
            "['Learn more from kidney doctor Andrew Bentall, M.D.', \"I'm Dr. Andrew Bentall, a kidney doctor at Mayo Clinic.\", 'I look after patients with kidney disease, either in the early stages, or with more advanced kidney disease considering dialysis and transplantation as treatment options.', \"In this video, we'll cover the basics of chronic kidney disease.\", 'What is it?', 'Who gets it?', 'The symptoms, diagnosis and treatment.', \"Whether you are looking for answers for yourself or for someone you love, we're here to give you the best information available.\", 'Chronic kidney disease is a disease characterized by progressive damage and loss of function in the kidneys.', \"It's estimated that chronic kidney disease affects about one in seven American adults.\", \"And most of those don't know they have it.\", \"Before we get into the disease itself, let's talk a little bit about the kidneys and what they do.\", 'Our kidneys play many important roles keeping our bodies in balance.', 'They remove waste and toxins, excess water from the bloodstream, which is carried out of the body in urine.', \"They helped to make hormones to produce red blood cells, and they turn vitamin D into its active form, so it's usable in the body.\", 'There are quite a few things that can cause or put you at higher risk for chronic kidney disease.', 'Some of them are not things that can be avoided.', 'Your risk is simply higher if you have a family history of certain genetic conditions like polycystic kidney disease or some autoimmune diseases like lupus or IgA nephropathy.', 'Defects in the kidney structure can also cause your kidneys to fail, and you have an increased risk as you get older.', 'Sometimes, other common medical conditions can increase your risk.', 'Diabetes is the most common cause of kidney disease.', 'Both type 1 and type 2 diabetes.', 'But also heart disease and obesity can contribute to the damage that causes kidneys to fail.', 'Urinary tract issues and inflammation in different parts of the kidney can also lead to long-term functional decline.', 'There are things that are more under our control: Heavy or long-term use of certain medications, even those that are common over-the-counter.', 'Smoking can also be a contributing factor to chronic kidney disease.', 'Often there are no outward signs in the earlier stages of chronic kidney disease, which is grouped into stages 1 through 5.', 'Generally, earlier stages are known as 1 to 3.', 'And as kidney disease progresses, you may notice the following symptoms.', 'Nausea and vomiting, muscle cramps, loss of appetite, swelling via feet and ankles, dry, itchy skin, shortness of breath, trouble sleeping, urinating either too much or too little.', 'However, these are usually in the later stages, but they can also happen in other disorders.', \"So don't automatically interpret this as having kidney disease.\", \"But if you're experiencing anything that concerns you, you should make an appointment with your doctor.\", 'Even before any symptoms appear, routine blood work can indicate that you might be in the early stages of chronic kidney disease.', \"And the earlier it's detected, the easier it is to treat.\", 'This is why regular checkups with your doctor are important.', 'If your doctor suspects the onset of chronic kidney disease, they may schedule a variety of other tests.', 'They may also refer you to a kidney specialist, a nephrologist like myself.', 'Urine tests can reveal abnormalities and give clues to the underlying cause of the chronic kidney disease.', 'And this can also help to determine the underlying issues.', 'Various imaging tests like ultrasounds or CT scans can be done to help your doctor assess the size, the structure, as well as evaluate the visible damage, inflammation or stones of your kidneys.', 'And in some cases, a kidney biopsy may be necessary.', 'And a small amount of tissue is taken with a needle and sent to the pathologist for further analysis.', 'Treatment is determined by what is causing your kidneys to not function normally.', 'Treating the cause is key, leading to reduced complications and slowing progression of kidney disease.', 'For example, getting better blood pressure control, improved sugar control and diabetes, and reducing weight are often key interventions.', 'However, existing damage is not usually reversible.', 'In some conditions, treatment can reverse the cause of the disease.', 'So seeking medical review is really important.', 'Individual complications vary, but treatment might include high blood pressure medication, diuretics to reduce fluid and swelling, supplements to relieve anemia, statins to lower cholesterol, or medications to protect your bones and prevent blood vessel calcification.', 'A lower-protein diet may also be recommended.', 'It reduces the amount of waste your kidneys need to filter from your blood.', 'These can not only slow the damage of kidney disease, but make you feel better as well.', \"When the damage has progressed to the point that 85 to 90 percent of your kidney function is gone, and they no longer work well enough to keep you alive, it's called end-stage kidney failure.\", 'But there are still options.', \"There's dialysis, which uses a machine to filter the toxins and remove water from your body as your kidneys are no longer able to do this.\", 'Where possible, the preferred therapy is a kidney transplant.', \"While an organ transplant can sound daunting, it's actually often the better alternative, and the closest thing to a cure, if you qualify for a kidney transplant.\", 'If you have kidney disease, there are lifestyle choices.', 'Namely quit smoking.', 'Consuming alcohol in moderation.', \"If you're overweight or obese, then try to lose weight.\", 'Staying active and getting exercise can help not only with your weight, but fatigue and stress.', \"If your condition allows, keep up with your routine, whether that's working, hobbies, social activities, or other things you enjoy.\", \"It can be helpful to talk to someone you trust, a friend or relative who's good at listening.\", 'Or your doctor could also refer you to a therapist or social worker.', 'It can also be helpful to find a support group and connect with people going through the same thing.', 'Learning you have chronic kidney disease and learning how to live with it can be a challenge.', 'But there are lots of ways to help you to be more comfortable for longer before more drastic measures are needed.', 'And even then, there is plenty of hope.', \"If you'd like to learn even more about chronic kidney disease, watch our other related videos or visit mayoclinic.org.\", 'We wish you well.']\n"
          ]
        }
      ],
      "source": [
        "# Tokenization\n",
        "text = corpus\n",
        "sentence_list = nltk.sent_tokenize(text) #A list of senetences\n",
        "\n",
        "# Print the list of sentences\n",
        "print(sentence_list)\n"
      ]
    },
    {
      "cell_type": "markdown",
      "metadata": {
        "id": "A0kZDPHxCRGm"
      },
      "source": [
        "# Proses 3 (Bot Response)\n",
        "\n",
        "Bot respon digunakan untuk membuat sebuah percakapan awal antara pengguna dengan bot, jadi disini user dapat menyapa bot, nah untuk kata-kata dapat diganti sesuai dengan kebutuhan, misalnya bahasa indonesia. \n",
        "\n",
        "Pada percakapan awal tidak menggunakan ML atau metode lainnya, program hanya menjawab dengan kata yang di cocokkan sebagai input."
      ]
    },
    {
      "cell_type": "code",
      "execution_count": 8,
      "metadata": {
        "id": "qII0gu1dCRGm"
      },
      "outputs": [],
      "source": [
        "#a function to return a random greeting response to a users greeting\n",
        "def greeting_response(text):\n",
        "    text = text.lower()\n",
        "    \n",
        "    #Bots greeting respone\n",
        "    bot_greetings = ['howdy','hi','hello','hola']\n",
        "    \n",
        "    #Users greeting\n",
        "    user_greetings = ['hi','hey','hello','greetings','wassup']\n",
        "    \n",
        "    for word in text.split():\n",
        "        if word in user_greetings:\n",
        "            return random.choice(bot_greetings)\n",
        "        \n",
        "    #Random response to greeting\n",
        "    def gratitude_response(text):\n",
        "        text=text.lower()\n",
        "   \n"
      ]
    },
    {
      "cell_type": "markdown",
      "metadata": {
        "id": "AZEgMQCr_HtI"
      },
      "source": [
        "1. Pada list kode bot_greetings itu bentuk kata sapaan bot terhadap sapaan yang kita berikan, dan dapat diganti dengan bahasa Indonesia atau lainnya.\n",
        "2. Sedangkan, pada list user_greetings itu kata sapaan input dari user dan dapat diganti dengan bahasa lainnya."
      ]
    },
    {
      "cell_type": "markdown",
      "metadata": {
        "id": "oTHbuHoO_SXL"
      },
      "source": [
        "# Sorting List"
      ]
    },
    {
      "cell_type": "code",
      "execution_count": 9,
      "metadata": {
        "id": "ZQnYG5nQCRGn"
      },
      "outputs": [],
      "source": [
        " def index_sort(list_var):\n",
        "    length = len(list_var)\n",
        "    list_index = list(range(0, length))\n",
        "    \n",
        "    x = list_var        \n",
        "    for i in range(length):\n",
        "        for j in range(length):\n",
        "            if x[list_index[i]] > x[list_index[j]]:\n",
        "                #swap\n",
        "                temp = list_index[i]\n",
        "                list_index[i] = list_index[j]\n",
        "                list_index[j] = temp\n",
        "                \n",
        "    return list_index"
      ]
    },
    {
      "cell_type": "markdown",
      "metadata": {
        "id": "tIuiijdc_YZ2"
      },
      "source": [
        "# Chatbot Respon Menggunakan Cosine Similarity\n",
        "\n",
        "Pada respon bot menggunakan teknis Cosine Similarity untuk menghitung kata yang cocok dengan yang di input user terhadap respon dari Bot"
      ]
    },
    {
      "cell_type": "code",
      "execution_count": 10,
      "metadata": {
        "id": "VrBJ58bvCRGn"
      },
      "outputs": [],
      "source": [
        "# Creat Bots Response\n",
        "def bot_response(user_input):\n",
        "    user_input=user_input.lower()\n",
        "    sentence_list.append(user_input)\n",
        "    bot_response= ''\n",
        "    cm=CountVectorizer().fit_transform(sentence_list)\n",
        "    similarity_scores=cosine_similarity(cm[-1],cm)\n",
        "    similarity_scores_list=similarity_scores.flatten()\n",
        "    index=index_sort(similarity_scores_list)\n",
        "    index=index[1:]\n",
        "    response_flag=0\n",
        "    \n",
        "    j=0\n",
        "    for i in range(len(index)):\n",
        "        if similarity_scores_list[index[i]]>0.0:\n",
        "            bot_response=bot_response+' '+sentence_list[index[i]]\n",
        "            response_flag=1\n",
        "            j=j+1\n",
        "        if j>2:\n",
        "            break\n",
        "\n",
        "        if response_flag==0:\n",
        "            bot_response=bot_response+\" \"+\"I apologize, I dont understand\"\n",
        "\n",
        "        sentence_list.remove(user_input) \n",
        "\n",
        "        return bot_response"
      ]
    },
    {
      "cell_type": "markdown",
      "metadata": {
        "id": "2fvjGhBU_nyk"
      },
      "source": [
        "Pada listing kode >bot_response=bot_response+\" \"+\"I apologize, I dont understand\" pada list kode ini kata I apologize tujuannya untuk memberikan respon karena sistem tidak mengenali kata yang kita input, jadi sebagai bentuk respon bot kepada user. Kata tersebut bisa diganti dengan bahasa Indonesia, misalnya \"Maaf saya tidak mengetahui arti atau tidak mengenali kata-kata yang di input\"."
      ]
    },
    {
      "cell_type": "markdown",
      "metadata": {
        "id": "8-C33RGuCRGo"
      },
      "source": [
        "# Proses 4 (End Process, Making chat box)"
      ]
    },
    {
      "cell_type": "code",
      "execution_count": 11,
      "metadata": {
        "colab": {
          "base_uri": "https://localhost:8080/"
        },
        "id": "7GTB7h9TCRGo",
        "outputId": "0248606a-6049-42aa-f1af-cd141983e9ae"
      },
      "outputs": [
        {
          "output_type": "stream",
          "name": "stdout",
          "text": [
            "Doc Bot: I am DOc bot and I will answer your queries about chronic kidney disease, if you want to exit type, bye  ?\n",
            "bye\n",
            "Doc Bot: Bye Bye See you later\n"
          ]
        }
      ],
      "source": [
        "#Start Chat\n",
        "print(\"Doc Bot: I am DOc bot and I will answer your queries about chronic kidney disease, if you want to exit type, bye  ?\")\n",
        "\n",
        "exit_list=['exit','bye','see you later','quit']\n",
        "\n",
        "while(True):\n",
        "    user_input=input()\n",
        "    if user_input.lower() in exit_list:\n",
        "        print('Doc Bot: Bye Bye See you later')\n",
        "        break\n",
        "    else:\n",
        "        if greeting_response(user_input)!= None:\n",
        "            print('Doc Bot: '+ greeting_response(user_input))\n",
        "        else:\n",
        "            print('Doc Bot: '+ bot_response(user_input))\n",
        "            tts = gTTS(bot_response(user_input), lang='id')\n",
        "            tts.save('mantap.wav')\n",
        "            time.sleep(0.08)\n",
        "            print(\"Kamu:\\n\")\n",
        "            ipd.display(ipd.Audio('mantap.wav', autoplay=True))\n",
        "            \n",
        "            print(\"=\"*60 + \"\\n\")"
      ]
    },
    {
      "cell_type": "markdown",
      "metadata": {
        "id": "WavLomgtHxRI"
      },
      "source": [
        "Doc Bot ganti dengan ini atau sesuai dengan topik yang lagi di bahas, print(\"Doc Bot: Mau nanya apa kamu tentang kabel laut?\")"
      ]
    },
    {
      "cell_type": "code",
      "execution_count": 12,
      "metadata": {
        "id": "WWdOizj-CRGp"
      },
      "outputs": [],
      "source": [
        "#buat pertanyaan pada kolom diatas seperti : what is chronic kidney disease?, dll."
      ]
    },
    {
      "cell_type": "markdown",
      "metadata": {
        "id": "zJ5gxzVCgftf"
      },
      "source": [
        "---\n",
        "# AI Chatbot Versi Bahasa **Indonesia**\n",
        "# Proses 1 (Making Corpus with Download an Article)"
      ]
    },
    {
      "cell_type": "code",
      "execution_count": 13,
      "metadata": {
        "colab": {
          "base_uri": "https://localhost:8080/"
        },
        "id": "FYT3-ERtgjjS",
        "outputId": "bad19501-f86d-4b5b-b232-ee49a7e75804"
      },
      "outputs": [
        {
          "output_type": "stream",
          "name": "stdout",
          "text": [
            "Telkomsel, Indihome, dan Kabel Laut JaSuKa\n",
            "\n",
            "Pada hari Minggu lalu (19 September 2021), terjadi gangguan jaringan internet pada Telkomsel dan Indihome. Gangguan tersebut menyebabkan penurunan kualitas layanan TelkomGroup baik fixed maupun mobile broadband di beberapa wilayah Indonesia. Di masa pandemi yang menuntut orang untuk berada di rumah seperti ini, gangguan internet tentu menjadi masalah besar. Berbagai kegiatan penting seperti Seleksi Kompetensi Dasar (SKD) CPNS mengalami penundaan. Netizen pun banyak berkomentar negatif terkait hal ini. Saat artikel ini dirilis, gangguan tersebut mungkin belum benar-benar terselesaikan.\n",
            "\n",
            "Gangguan tersebut disebabkan oleh masalah pada sistem komunikasi kabel laut JaSuKa (Jawa, Sumatera dan Kalimantan) ruas Batam-Pontianak. Telkom memperkirakan proses perbaikan kabel laut yang terganggu akan berlangsung sekitar sebulan. Meski begitu, Telkom mencoba berbagai alternatif agar jaringan internet tetap dapat berjalan sebaik mungkin, meski tentu tidak sebaik ketika kondisi normal.\n",
            "\n",
            "Bagaimana pun juga, gangguan ini membuat banyak orang bertanya-tanya, “Apa hubungannya kabel di laut dengan internet?”, “Kenapa jaringan internet itu malah lewat kabel laut?”, “Kenapa nggak pakai satelit aja?”, “Kenapa jaringannya tidak segera membaik?”, dan lainnya. Artikel singkat ini akan mencoba membahas sedikit terkait hal itu.\n",
            "\n",
            "Ya, Internet itu ada di Bawah Laut\n",
            "\n",
            "Internet sering diasosiasikan dengan kata cloud atau wireless sehingga kita merasa bahwa internet itu dibawa oleh udara di sekitar kita. Ketika kita mendengar kata “jaringan internet”, yang terbayang mungkin gelombang antara menara pemancar di Bumi dengan satelit di angkasa. Itu tidak sepenuhnya salah. Internet memang ada di sekitar kita dan satelit memegang peran penting untuk itu. Namun, persepsi itu membuat kita melupakan bagian lain dari internet. Bagian terpenting yang sangat vital namun tidak akan pernah kita lihat, yaitu kabel laut. Sebelumnya, perlu kita ketahui bersama bahwa:\n",
            "\n",
            "99% Komunikasi Data Internasional itu Melalui Kabel Laut\n",
            "\n",
            "Itu adalah kalimat yang sudah banyak disampaikan di berbagai media massa, namun sepertinya masih belum banyak diketahui masyarakat umum. Lebih detailnya lagi, hanya sekitar 300 kabel bawah laut yang bertanggung jawab terhadap 99% lalu lintas komunikasi data internasional.\n",
            "\n",
            "Jaringan Kabel Laut di Dunia – www.submarinecablemap.com\n",
            "\n",
            "Gambar di atas merupakan jaringan kabel laut di dunia yang dapat diakses di www.submarinecablemap.com. Di sana, kita tidak hanya bisa melihat jaringan kabel secara keseluruhan, namun juga melihat lebih detail terkait salah satu kabel yang ada. Dari gambar di atas, jaringannya memang terlihat sangat banyak dan sangat rumit. Namun, kita perlu ingat bahwa komunikasi yang senantiasa terjadi di internet itu juga sangat banyak dan sangat rumit, jauh lebih banyak dan lebih rumit dari yang bisa kita bayangkan.\n",
            "\n",
            "Ketika kita mengirim satu chat ke teman di samping kita misalnya. Bisa jadi chat kita akan menempuh perjalanan yang amat sangat jauh. Mulai dari puluhan kilometer jalur darat secara wireless, kemudian melalui ribuan kilometer kabel laut, menuju ke data center di China atau Amerika, lalu kembali lagi ke Indonesia melalui kabel laut, dan sampai ke teman di samping kita secara wireless. Itu salah satu skenario yang mungkin terjadi, bisa saja jauh lebih pendek atau jauh lebih panjang. Sebagai mahasiswa Teknik Elektro yang pernah sedikit mendalami internet, yang bisa penulis katakan terkait internet adalah “It’s never been simple”\n",
            "\n",
            "Mengenal Kabel Laut\n",
            "\n",
            "Ketika mendengar bahwa 99% internet itu melewati kabel laut, apa bayangan kita terkait bentuk fisik dari kabel laut itu? Ukurannya mungkin memang sangat bervariasi, namun gambar berikut bisa memberikan gambaran bahwa ukuran kabelnya bisa jadi hanya sekecil ini\n",
            "\n",
            "Isi dari Kabel Laut – 99percentinvisible.org\n",
            "\n",
            "Hampir seluruh luasannya digunakan sebagai pelindung. Bagian yang mengalirkan informasi adalah fiber optik yang ukurannya tidak berbeda jauh dari sehelai rambut kita. Meski sangat kecil, dia mampu membawa informasi dengan sangat cepat, mendekati kecepatan cahaya. Itu karena informasi dibawa bukan sebagai sinyal listrik seperti kabel di rumah, namun sebagai sinyal cahaya. Kapasitasnya juga sangat besar, satu helai saja bisa memiliki kapasitas 100 gigabit per sekon. [Baca: Dasar Komunikasi Fiber Optik dan FTTH (Fiber To The Home)]\n",
            "\n",
            "Dengan itu semua, kabel laut jauh lebih cepat daripada satelit. Itu karena satelit yang biasanya digunakan untuk internet berada puluhan ribu kilometer di atas kita. Sementara itu, jalur melalui laut tidak akan lebih dari belasan ribu kilometer saja. Kapasitas transfer data dari satelit juga jauh lebih sulit untuk ditingkatkan dibanding kabel laut. Maka, meski keduanya memanfaatkan kecepatan cahaya, secara umum kabel laut tetap jauh lebih cepat daripada satelit. (Baca: SpaceX Luncurkan 60 Satelit Penyedia Internet Starlink)\n",
            "\n",
            "Namun, kabel laut juga memiliki banyak masalah. Banyak pihak yang menyebutkan bahwa kabel laut yang menjadi tulang punggung internet kita ini sebenarnya sangatlah rentan. Kabel laut dapat mengalami masalah akibat faktor alam, namun ini hanya mencakup 14 persen saja. Association of Sea Cable Communication Systems menyebutkan bahwa sebanyak 47% gangguan kabel laut disebabkan oleh jangkar kapal. Sementara itu, 28% disebabkan oleh sektor perikanan yang menggunakan FAD (fish aggregating devices). Di Indonesia pun, jangkar juga menjadi penyebab gangguan kabel terbesar. Hal itu mengingat lautan Indonesia juga sering dilewati banyak kapal.\n",
            "\n",
            "Jaringan Kabel Laut di Indonesia\n",
            "\n",
            "Kabel laut yang ada di negeri kita juga cukup banyak. Hal itu dapat dilihat pada Gambar berikut yang juga didapatkan dari www.submarinecablemap.com. Pada Gambar ini, jaringan kabel JaSuKa yang dimiliki Telkom Indonesia terlihat berwarna biru tua dan menghubungkan berbagai titik di Jawa, Sumatera, dan Kalimantan. JaSuKa memiliki total panjang hampir 11 ribu kilometer dan disebut menjadi salah satu yang terpanjang di dunia.\n",
            "\n",
            "Jaringan Kabel Laut di Indonesia – www.submarinecablemap.com\n",
            "\n",
            "Kabel laut memang jauh lebih murah daripada satelit, namun tetap saja tidak mudah dan tidak sederhana. Baik perencanaan maupun pengelolaannya memerlukan banyak pengorbanan. Ini wajar saja mengingat dunia bawah laut sangatlah kompleks dan penuh dengan berbagai hal yang tak terduga. Perlu diketahui pula bahwa setiap beberapa puluh kilometer, perlu terdapat repeater untuk menguatkan kembali sinyal cahaya yang telah melemah. Melihat kompleksitas itu, wajar saja jika perbaikan gangguan tidak bisa selesai dalam satu malam.\n",
            "\n",
            "Meski demikian, sistem yang besar umumnya memiliki berbagai alternatif jika sistem utamanya gagal. Hal ini juga kita dengar dari pihak Telkom, bahwa jalur backup dan alternatif telah diaktifkan untuk destinasi utama tertentu. Berbagai hal teknis yang tidak akan dipahami masyarakat umum pasti juga telah dilakukan.\n",
            "\n",
            "Bagaimana pun juga, gangguan ini menunjukan pada kita semua bahwa sistem internet di Indonesia sebenarnya masih belum kuat dan sangat rentan, apalagi jika kita meninjau Indonesia Timur. Di satu sisi, masyarakat umum perlu menyadari bahwa sistem internet secara fisiknya memang sangat kompleks dan sangat rentan terhadap berbagai gangguan serta tidak bisa diperbaiki dengan mudah. Di sisi lain, berbagai pihak yang berpartisipasi langsung di dalamnya perlu terus melakukan evaluasi dan pengembangan agar sistem internet di negeri kita dapat menjadi lebih handal. (Baca: Analisis terhadap Kualitas Jaringan Internet Indonesia yang Memburuk)\n",
            "\n",
            "Referensi\n"
          ]
        }
      ],
      "source": [
        "article = Article('https://warstek.com/kabel-laut/')\n",
        "article.download()\n",
        "article.parse()\n",
        "article.nlp()\n",
        "corpus = article.text\n",
        "print(corpus)"
      ]
    },
    {
      "cell_type": "markdown",
      "metadata": {
        "id": "6KQ3Or6fiKxv"
      },
      "source": [
        "# Proses 2 (Tokenization)"
      ]
    },
    {
      "cell_type": "code",
      "execution_count": 14,
      "metadata": {
        "colab": {
          "base_uri": "https://localhost:8080/"
        },
        "id": "qsID-u6Gg012",
        "outputId": "9a190ce7-c04d-432b-ec50-cc345e54b2ad"
      },
      "outputs": [
        {
          "output_type": "stream",
          "name": "stdout",
          "text": [
            "['Telkomsel, Indihome, dan Kabel Laut JaSuKa\\n\\nPada hari Minggu lalu (19 September 2021), terjadi gangguan jaringan internet pada Telkomsel dan Indihome.', 'Gangguan tersebut menyebabkan penurunan kualitas layanan TelkomGroup baik fixed maupun mobile broadband di beberapa wilayah Indonesia.', 'Di masa pandemi yang menuntut orang untuk berada di rumah seperti ini, gangguan internet tentu menjadi masalah besar.', 'Berbagai kegiatan penting seperti Seleksi Kompetensi Dasar (SKD) CPNS mengalami penundaan.', 'Netizen pun banyak berkomentar negatif terkait hal ini.', 'Saat artikel ini dirilis, gangguan tersebut mungkin belum benar-benar terselesaikan.', 'Gangguan tersebut disebabkan oleh masalah pada sistem komunikasi kabel laut JaSuKa (Jawa, Sumatera dan Kalimantan) ruas Batam-Pontianak.', 'Telkom memperkirakan proses perbaikan kabel laut yang terganggu akan berlangsung sekitar sebulan.', 'Meski begitu, Telkom mencoba berbagai alternatif agar jaringan internet tetap dapat berjalan sebaik mungkin, meski tentu tidak sebaik ketika kondisi normal.', 'Bagaimana pun juga, gangguan ini membuat banyak orang bertanya-tanya, “Apa hubungannya kabel di laut dengan internet?”, “Kenapa jaringan internet itu malah lewat kabel laut?”, “Kenapa nggak pakai satelit aja?”, “Kenapa jaringannya tidak segera membaik?”, dan lainnya.', 'Artikel singkat ini akan mencoba membahas sedikit terkait hal itu.', 'Ya, Internet itu ada di Bawah Laut\\n\\nInternet sering diasosiasikan dengan kata cloud atau wireless sehingga kita merasa bahwa internet itu dibawa oleh udara di sekitar kita.', 'Ketika kita mendengar kata “jaringan internet”, yang terbayang mungkin gelombang antara menara pemancar di Bumi dengan satelit di angkasa.', 'Itu tidak sepenuhnya salah.', 'Internet memang ada di sekitar kita dan satelit memegang peran penting untuk itu.', 'Namun, persepsi itu membuat kita melupakan bagian lain dari internet.', 'Bagian terpenting yang sangat vital namun tidak akan pernah kita lihat, yaitu kabel laut.', 'Sebelumnya, perlu kita ketahui bersama bahwa:\\n\\n99% Komunikasi Data Internasional itu Melalui Kabel Laut\\n\\nItu adalah kalimat yang sudah banyak disampaikan di berbagai media massa, namun sepertinya masih belum banyak diketahui masyarakat umum.', 'Lebih detailnya lagi, hanya sekitar 300 kabel bawah laut yang bertanggung jawab terhadap 99% lalu lintas komunikasi data internasional.', 'Jaringan Kabel Laut di Dunia – www.submarinecablemap.com\\n\\nGambar di atas merupakan jaringan kabel laut di dunia yang dapat diakses di www.submarinecablemap.com.', 'Di sana, kita tidak hanya bisa melihat jaringan kabel secara keseluruhan, namun juga melihat lebih detail terkait salah satu kabel yang ada.', 'Dari gambar di atas, jaringannya memang terlihat sangat banyak dan sangat rumit.', 'Namun, kita perlu ingat bahwa komunikasi yang senantiasa terjadi di internet itu juga sangat banyak dan sangat rumit, jauh lebih banyak dan lebih rumit dari yang bisa kita bayangkan.', 'Ketika kita mengirim satu chat ke teman di samping kita misalnya.', 'Bisa jadi chat kita akan menempuh perjalanan yang amat sangat jauh.', 'Mulai dari puluhan kilometer jalur darat secara wireless, kemudian melalui ribuan kilometer kabel laut, menuju ke data center di China atau Amerika, lalu kembali lagi ke Indonesia melalui kabel laut, dan sampai ke teman di samping kita secara wireless.', 'Itu salah satu skenario yang mungkin terjadi, bisa saja jauh lebih pendek atau jauh lebih panjang.', 'Sebagai mahasiswa Teknik Elektro yang pernah sedikit mendalami internet, yang bisa penulis katakan terkait internet adalah “It’s never been simple”\\n\\nMengenal Kabel Laut\\n\\nKetika mendengar bahwa 99% internet itu melewati kabel laut, apa bayangan kita terkait bentuk fisik dari kabel laut itu?', 'Ukurannya mungkin memang sangat bervariasi, namun gambar berikut bisa memberikan gambaran bahwa ukuran kabelnya bisa jadi hanya sekecil ini\\n\\nIsi dari Kabel Laut – 99percentinvisible.org\\n\\nHampir seluruh luasannya digunakan sebagai pelindung.', 'Bagian yang mengalirkan informasi adalah fiber optik yang ukurannya tidak berbeda jauh dari sehelai rambut kita.', 'Meski sangat kecil, dia mampu membawa informasi dengan sangat cepat, mendekati kecepatan cahaya.', 'Itu karena informasi dibawa bukan sebagai sinyal listrik seperti kabel di rumah, namun sebagai sinyal cahaya.', 'Kapasitasnya juga sangat besar, satu helai saja bisa memiliki kapasitas 100 gigabit per sekon.', '[Baca: Dasar Komunikasi Fiber Optik dan FTTH (Fiber To The Home)]\\n\\nDengan itu semua, kabel laut jauh lebih cepat daripada satelit.', 'Itu karena satelit yang biasanya digunakan untuk internet berada puluhan ribu kilometer di atas kita.', 'Sementara itu, jalur melalui laut tidak akan lebih dari belasan ribu kilometer saja.', 'Kapasitas transfer data dari satelit juga jauh lebih sulit untuk ditingkatkan dibanding kabel laut.', 'Maka, meski keduanya memanfaatkan kecepatan cahaya, secara umum kabel laut tetap jauh lebih cepat daripada satelit.', '(Baca: SpaceX Luncurkan 60 Satelit Penyedia Internet Starlink)\\n\\nNamun, kabel laut juga memiliki banyak masalah.', 'Banyak pihak yang menyebutkan bahwa kabel laut yang menjadi tulang punggung internet kita ini sebenarnya sangatlah rentan.', 'Kabel laut dapat mengalami masalah akibat faktor alam, namun ini hanya mencakup 14 persen saja.', 'Association of Sea Cable Communication Systems menyebutkan bahwa sebanyak 47% gangguan kabel laut disebabkan oleh jangkar kapal.', 'Sementara itu, 28% disebabkan oleh sektor perikanan yang menggunakan FAD (fish aggregating devices).', 'Di Indonesia pun, jangkar juga menjadi penyebab gangguan kabel terbesar.', 'Hal itu mengingat lautan Indonesia juga sering dilewati banyak kapal.', 'Jaringan Kabel Laut di Indonesia\\n\\nKabel laut yang ada di negeri kita juga cukup banyak.', 'Hal itu dapat dilihat pada Gambar berikut yang juga didapatkan dari www.submarinecablemap.com.', 'Pada Gambar ini, jaringan kabel JaSuKa yang dimiliki Telkom Indonesia terlihat berwarna biru tua dan menghubungkan berbagai titik di Jawa, Sumatera, dan Kalimantan.', 'JaSuKa memiliki total panjang hampir 11 ribu kilometer dan disebut menjadi salah satu yang terpanjang di dunia.', 'Jaringan Kabel Laut di Indonesia – www.submarinecablemap.com\\n\\nKabel laut memang jauh lebih murah daripada satelit, namun tetap saja tidak mudah dan tidak sederhana.', 'Baik perencanaan maupun pengelolaannya memerlukan banyak pengorbanan.', 'Ini wajar saja mengingat dunia bawah laut sangatlah kompleks dan penuh dengan berbagai hal yang tak terduga.', 'Perlu diketahui pula bahwa setiap beberapa puluh kilometer, perlu terdapat repeater untuk menguatkan kembali sinyal cahaya yang telah melemah.', 'Melihat kompleksitas itu, wajar saja jika perbaikan gangguan tidak bisa selesai dalam satu malam.', 'Meski demikian, sistem yang besar umumnya memiliki berbagai alternatif jika sistem utamanya gagal.', 'Hal ini juga kita dengar dari pihak Telkom, bahwa jalur backup dan alternatif telah diaktifkan untuk destinasi utama tertentu.', 'Berbagai hal teknis yang tidak akan dipahami masyarakat umum pasti juga telah dilakukan.', 'Bagaimana pun juga, gangguan ini menunjukan pada kita semua bahwa sistem internet di Indonesia sebenarnya masih belum kuat dan sangat rentan, apalagi jika kita meninjau Indonesia Timur.', 'Di satu sisi, masyarakat umum perlu menyadari bahwa sistem internet secara fisiknya memang sangat kompleks dan sangat rentan terhadap berbagai gangguan serta tidak bisa diperbaiki dengan mudah.', 'Di sisi lain, berbagai pihak yang berpartisipasi langsung di dalamnya perlu terus melakukan evaluasi dan pengembangan agar sistem internet di negeri kita dapat menjadi lebih handal.', '(Baca: Analisis terhadap Kualitas Jaringan Internet Indonesia yang Memburuk)\\n\\nReferensi']\n"
          ]
        }
      ],
      "source": [
        "# Tokenization\n",
        "text = corpus\n",
        "sentence_list = nltk.sent_tokenize(text) #A list of senetences\n",
        "\n",
        "# Print the list of sentences\n",
        "print(sentence_list)"
      ]
    },
    {
      "cell_type": "code",
      "execution_count": null,
      "metadata": {
        "id": "iq-tYfnBiS06"
      },
      "outputs": [],
      "source": [
        ""
      ]
    },
    {
      "cell_type": "code",
      "execution_count": 15,
      "metadata": {
        "id": "lYvkaKOHiia2"
      },
      "outputs": [],
      "source": [
        "#a function to return a random greeting response to a users greeting\n",
        "def greeting_response(text):\n",
        "    text = text.lower()\n",
        "    \n",
        "    #Bots greeting respone\n",
        "    bot_greetings = ['halo','hai','yuhuu','*eyebrows up*']\n",
        "    \n",
        "    #Users greeting\n",
        "    user_greetings = ['Haloo','Eh iyaa Haii','Hai','greetings','wassup']\n",
        "    \n",
        "    for word in text.split():\n",
        "        if word in user_greetings:\n",
        "            return random.choice(bot_greetings)\n",
        "        \n",
        "    #Random response to greeting\n",
        "    def gratitude_response(text):\n",
        "        text=text.lower()\n",
        "   \n"
      ]
    },
    {
      "cell_type": "code",
      "execution_count": 16,
      "metadata": {
        "id": "TZU6BZB3iia7"
      },
      "outputs": [],
      "source": [
        " def index_sort(list_var):\n",
        "    length = len(list_var)\n",
        "    list_index = list(range(0, length))\n",
        "    \n",
        "    x = list_var        \n",
        "    for i in range(length):\n",
        "        for j in range(length):\n",
        "            if x[list_index[i]] > x[list_index[j]]:\n",
        "                #swap\n",
        "                temp = list_index[i]\n",
        "                list_index[i] = list_index[j]\n",
        "                list_index[j] = temp\n",
        "                \n",
        "    return list_index"
      ]
    },
    {
      "cell_type": "code",
      "execution_count": 17,
      "metadata": {
        "id": "jgD-wmTwiia7"
      },
      "outputs": [],
      "source": [
        "# Creat Bots Response\n",
        "def bot_response(user_input):\n",
        "    user_input=user_input.lower()\n",
        "    sentence_list.append(user_input)\n",
        "    bot_response= ''\n",
        "    cm=CountVectorizer().fit_transform(sentence_list)\n",
        "    similarity_scores=cosine_similarity(cm[-1],cm)\n",
        "    similarity_scores_list=similarity_scores.flatten()\n",
        "    index=index_sort(similarity_scores_list)\n",
        "    index=index[1:]\n",
        "    response_flag=0\n",
        "    \n",
        "    j=0\n",
        "    for i in range(len(index)):\n",
        "        if similarity_scores_list[index[i]]>0.0:\n",
        "            bot_response=bot_response+' '+sentence_list[index[i]]\n",
        "            response_flag=1\n",
        "            j=j+1\n",
        "        if j>2:\n",
        "            break\n",
        "\n",
        "        if response_flag==0:\n",
        "            bot_response=bot_response+\" \"+\"I apologize, I dont understand\"\n",
        "\n",
        "        sentence_list.remove(user_input) \n",
        "\n",
        "        return bot_response"
      ]
    },
    {
      "cell_type": "markdown",
      "metadata": {
        "id": "PVF_g7Xyiia8"
      },
      "source": [
        "# Proses 4 (End Process, Making chat box)"
      ]
    },
    {
      "cell_type": "code",
      "execution_count": 18,
      "metadata": {
        "colab": {
          "base_uri": "https://localhost:8080/",
          "height": 394
        },
        "id": "knRbg2R0iia8",
        "outputId": "c8e703a1-f73e-4958-80f1-83c0dd52a5d0"
      },
      "outputs": [
        {
          "output_type": "stream",
          "name": "stdout",
          "text": [
            "Doc Bot: Mau nanya apa kamu tentang kabel laut\n",
            "bye \n",
            "Doc Bot:  I apologize, I dont understand\n",
            "Kamu:\n",
            "\n"
          ]
        },
        {
          "output_type": "display_data",
          "data": {
            "text/plain": [
              "<IPython.lib.display.Audio object>"
            ],
            "text/html": [
              "\n",
              "                <audio controls=\"controls\" autoplay=\"autoplay\">\n",
              "                    <source src=\"data:audio/x-wav;base64,//NExAAPID4kAUkQAP6QCgEAQJLCgYJEDEAx/y/B8EHRAZ5MMf5z/DH//wx08HwQBAEAQBM+XB8HwQBAEAQBMHwfB8HwQBAEAQXG+rC4wCSPTbmdiWETgsB/LW7NPzHY//NExBYXcyqMAZlQAIwbBX9uRkjnf+a5GhH+31Y4RQfAN/224kiAIx+WFs7//7kJcfDUbkxYgGH/+//EGUHxGQFFICZUT/////mGi2YYe5cs46LxbVkRLheBNUAKRFKF//NExAsTuu6gAdQoAcNBQoDBw89Rh3O23bq3/b29f+9mnR4xQPHCYqLsqDA/JnIs1+/ZdKPttfuRCenb////69hBkWjDUQUo6qcwgjrAuEIWsXrcsV+cCGsnqdpCqEwv//NExA8WYxKkANhKuf9U/PyH4PX/r///M2EIgjHcPCooV51azkEzkIAhTnMLj2mVWsMJREtqhUHEDSlqtfTv/2//uRedIgKCZiiA2pJTs5IocaQpBokpav7uaHBTg4Xr//NExAgSUwasAMhEuUeVMOCRq9/75/F5P/////8uhiNMYS6bLqFd1QSABGzMmi8xSLR0rM7uUqXb+n////2s7AkK6mc2dEctmojuKKYi6l0iyKcBivpAiuo4EhwcAb9H//NExBEV2xakAKCKucO3m//6fb//n1hQYQQNAxpmGynIIhgudg4Eih/c5zlqhipKyaLFDicalEpb7XTt///RDOsXMQ4fE1YYY7Ix0MbYpCJGqPK1RQTMA14HHsDTJg6g//NExAwVIxKoAKFOuRdIKALaXhF+jenp9vX//q/QVnnKcFSaPRGSUJlLFCQsVXNFDHpnKtn0qmp5Aiceg+r///f//6VQ1uRMONLnmjpnUw6qIch+WoVtMugchmTSOKaD//NExAoP+X6wAKBKlIAb/5P1/7////0z3A7CiOR+xKnEyi5CGMHHi4RFpRh7gydQCX//prMlz4NEUhxE+9BcQWhgOEGZbgb1cZutYvwYCb/J+X///P//pLuEBMfoLao6//NExB0QKeq0AKBKmNiCQuW7i6KzWVc1WX9mKUhB4BM///RUMBxgMiBxdrxxhdZA3eaxoFUTIXRInNV7sMjQG1v5LxL1/////7UuU8qChtEOR9jEHWWMi4VNLEYu9OVr//NExC8QcWK0ANBElAQ///5ZIKiYwVPGiAq8uXYZQJHW+3oeMiAnzhFPnMI9Qjf4r6+h/t////99xgTMQ6B4TEs5jvnGuxmIV4qZiPbF6l1F3us///tCk9DLQAKkmJY8//NExEAQkaqwAMiKlIrFFUEEFlAB8wEWs82HdEM8og+P7/8/n8vlyktjhDzugoYioCchnOFoyksR3IZSJOVH/+5ctv/////79VdhuUyxBHm8rQCUE6rVPe7LAaWA8eFU//NExFARSrawAKBEuVq7HU8cP/8Qn+U+n///7fT5xYzGEih3Izlc7jIIdEV9zUUqdXou/zqznd///////cztOxwrpFvMhnAbzgHqtcMMq8cHRT1aj9zlPFHuvfoAov6N//NExF0SGsawANHEueh/p/////vnA5MYu1qZBkGDttBxNmh0/M/lNSOfS/+lcxpT//7ayphhQVa1KhxVJEePHpi7hetK2i9FT1HdmtpSz/Fyoa+/2f0////Q0ykUJMHX//NExGcRufawAMlGmB6s6mQ48ilHnhA0RKuXap7U8Siyjf///AIw8B4eHA05TCigOMqzuhuR0goebxCn7Ou0XApseQdvT5vp////z/8T8ZQQs02SUJVVCw/FT96GBNxk//NExHMRIWaoANHKlDVpH6VhcVYAx+///8+ibHpMiYeplIYI1XaoJdbliZ52UT3yacvx8iLtR954gDfOQj831VvPf6f/+RbEnIHADVQ8FpACKJnGh2HV3I5Nqhd65ibW//NExIERSWKkAMCQlOUZyvj4v4iDzInC9aNH/+sJqEQ3W+S1reT8MUjcBFOHGs5lELQlmW+NiNdrGAgWAQ86qZD1Mzm9i9Ufm+O/2tb3FfZJcGcklcIckH0o5EFkqmBU//NExI4UseaYANHQmAi0KW64XsUlYlc3///aoKPoV3IVqs3f10F8Am0eRf1RdNdBoUyE4VK4WCwAcA4hkG4oJibRryKe5h4SqunvP9ITFQVj5XOrO7KY9WQxoEMHP8Tc//NExI4TkUqQAMlMlIViDMoQPqQ+j1nP//+rfc/StYPZd2OMXBBEMXtq01o6EZmaYOUXQcJnqh6Lb/zFiu/8MRW3Ul9/CH8ocYPF7h+HZGHwrlo1XH9MjrWLcnsn5mfr//NExJIUIUqMAMoMlPO/djdvdedRBNQciRrniygG0oCZxQ1NDi4AWlEhd////z4xKi7DHaegJTTfsJn5C+6H4KIcSO3MO0wlftrtLm+SpK1EOwCnzI9AMHI6kkSY3WTG//NExJQZGTaYANYYcJ9ZZDz//iYKgq7/jyoq7/O1u///0Tmu83QQDC8AoxnoCZ8OmEkACMkqRQo8Qtc4z1uQ1JYViMPQC4rdhDlGTmI2yt0aMfrx/NBbXGwNCQKvLf57//NExIIQ+LacAM4YTLHKHgJsYAryxKGSRYiND8sZzDlGc/Y4KCQNGgVLMIgJ61ot+ZvPEl2LbqRbYLNl48aeUuQFt2VuTctOHdrnCq86mu1bWYvVOsFUEQYGpcMRbkn1//NExJEQOJ5cAN4eTD+sqEBHkh+sc2QQakF5RajnF3M0mR1tZU1uNVpFbBtQIj4upFqYVRvrc9kRCh5PixR2nbSOIBv7LCeKxYjkgptb+j4ZgQaQJ/P9YdyHr3BcYWxA//NExKMQyEooAM4MJN4dVtgA1h0A8AS5o7WdMQMAoALFCHn7N69awu8W0NvDpzBaP0/4kg4hBAQAKZ8Sfq+/3yRFxjJmBoNA+RQnL3X69kGvb65XYvm9Rotzde9b6v+u//NExLIQeC4gAVsYAKb/oTyRogtMrsfTSPUu2zx6AqDTFMXxiLWWdqkXQNN3Pdx7ZkDLEfB6Cfkw8Rx1EkAvQhxMh0EzKyxA6bDCHlyoxJUtJRz5xaDeYGaRseN0kk11//NExMMfKyowAZqYAP3MzBZqfNEGU9TGtS3qczUbMmtVnTZTXegalE79Or+z6l0NFVBfWr1eg16DXp6ezGgRfy39hw31/GXOWx0uaSPplYcDg5hSmIhBjpBcFBKmrohQ//NExJkf4sqYAZpoARAcjstszyZZhYQGBz/NkR4M0HGwHgAAAADI8U8Vy5tT/PbU///9X+s5TydiYxndjDESZVyxGPCp5KP33RrT+y7vdHnlzFqRshhiu////uS06HQF//NExGwcwpqUAdtQAXfOvMuwfXzOM1GtmEzjWtoDLk7jf/QF1jl9OgwXZQafsCQhZ4hSqVgDCwAj0DQBRkBGQBBwCz0xWfI0nqcptVMEtTerr/6/+6rF6PGMIYhM0Cha//NExEwgWuaUANUQudwazNInoRSAWSppN1VTCrdTz1NeyY2RkGCSEeCK2SdP////+GiFlTy7uX+damiCYMHZhZyzCsZVVfY1OBp6K0zWD6KdmpFgs4eDosDngTKIEQcq//NExB0YqiagAMzKmICaCUjZhqAbxhmT5dIeGFz7rMDfmfUv3//v19VjECYkzoVurWGGYwkLGdVL/0oj+UqXLZWUQQTg6W/2IiweDe2ig8eIuK3+XXQNX4SMkeKCM470//NExA0RcTKgAM4acC6AWiGWSCST8qLZjNm5XR1vUtmJq4fmVUstBeNqid6vf36v/63d5su9EOJHvERu7//6m//0/LZGQdUs0vkye8MMw9VQcEGyipMiQAEAaXiB3rev//NExBoSgUqYANPKlLJwgs+EAy6eMxARYr08J1/4ev/b36//4vRgiZaijB0Qnlki4MgQc3/7+6xv/6/1art/GLHZCUHRmsYIpuoLNZdDAoGURt43XJnvzYyXXy/bQgyj//NExCMQ4KKcAM6eTILGIuYvv7xfdRv/4fn3CMSkwQQFyrR60/1///+N/6IytaTW27AmQLEPesEATvNTKYG2SfMEtLOQzc9GOclMIWjKlYiRilog/logiU3vUev/9qFC//NExDISoJ6kANZeTODjgmD7Qmsy4XeYeH/////vDJKZ8XDHaTXVq/eTqG1L8NwAANQ5upS0wWgjlj8XRt9+wXlbPlqPkS4zasSqM39/dDEW//4sDJqatddKKEX+xKnb//NExDoSkJ6oAM5wTJ6P/yxhAOEChKsUWkOHSQmVvd/EsBlfVZsdKh6U/2crAyQnD+vm4tqsIqgnq4RIDyAwJ/e2csc3+pt//8XU0jF3U2A6WAzhA/rxUddmDbv/6nFx//NExEISiKaoAM5eTCKFKksVFBaLqrde1KQTCJY5RlsJraBz1XkAMab4Jl+qAsP3sA6PptJUWAOElBoB40ZULPQz//+jzCZiG3k+ulb3mk/2///+KOlWuALSyo6DwCk6//NExEoSYSasAMrOcIEmuMYN7MaAljoEKbd30nxwJA0akbi3QRSOj5iiS9gI1lAS/pVhJxSuWSWHsBp6ZI2SFEjHgswaR/ugb//9uqylk08WK0FkVSsSkEYBCQcyYEoW//NExFMRyNakAMnGcDwCl8YmCWHenQNEohyDIiaprotd8NqW7jfM/+yhToKgqMHHpZS5FssDTxKEiwlWMW7/qHgrJf//1dvqHD3SygcvBhGAJgmBhknOBmCHic4CB8xJ//NExF4SWNKAANrEcBWVEJASBAQMIwEUGhh1WhvLZZVLrs3esg0dMiIcoiVGukWspd+z6af/o7P6KKe9X/ZTMuhDmMEQExkYUYYCKpg5hXKy+oGB4YDz+8qiqi9C8tmX//NExGcReGJMAV0YAAuII3DVCltbgKgkYg8PfZnSaq8XIWi6WycZSf/HMIaLjD3xmDO+r/k2XiCCfCBm5h+u//MTc1LxBBkCmbm6O6vTb+v5gaGZGDgHgrDgE+DnpIa7//NExHQiCypMAZuAANdVf///MDQaB8nCoX5kXSDjbKhPqgZoBw7I/vPTv5lezNVSR//f5u2X//rb+Zvyvf/y5bGqnD+/twvIT29n8nCVI3kHnqhUVIqJc3YXe+tRniCE//NExD4gqyqsAYxIANHOUCjc0MmmisO5G26bc4dBjHCmG7jAmQH9HDKNESjSA8ZR45uMs6kHoIT1j9tHTMMT4gQLpojv5lgyJgOD5AXUiaJNdTs4HXBAEHIgGpgHZESI//NExA4T+UqsAdAoASybPt6ldX//9KV53aSlTmRkJOckjKiGR0DMqIWWsdSjZFP+39FInxE3BX5Tdcyb7wqaKbjiKS1+5TjYqFkK9TVHtLtvQqyRM01ECbyuaMQ5E0kJ//NExBEWOZqkAMlYlH8AMmMZIsKoocfENejPQj55mlbevjZ+h2ewGAyElg8TxYYLW6VVrcOENyn+zSm9/2v02qscyOhYFAy+UpeeLI///s3CnZjVU8alCOsu7UlYihXT//NExAsVSaKwAMwMlG4DBpY8bagANsNUyYJ1qZO1mbUzdql5mlodaTsQ3k0lng4gkUEDwmpBqMIJGpqOWfW+F7p9ds12utrrfS6WmxQ4KdVP///10/6EKrfY4T71KDIc//NExAgQEZ68AHrKlfalNqr4oAFzmQBCWgTWSmXeq70vlnoXvN7mRdlD45FCbIYYawwWkGtE0Yg1p0NVH9F2Xo7Mg9fW6v3UGSZZvAhTY46cC4qJ8hWlOT1xgGBFpRQR//NExBoRyTa4AMPScbdWa/Y2fNDlED+oz0yNrUYjZZSQPyTNeD9Taul0nxYldOcY2/N+H/5ErUdj6lXhOskGsNEjAT6j0WcOGwXFyjFAWF5ZXuNmRm7WvRuil+H9iuxB//NExCUSiTK0AIvMcFwgaSPFkiT3PKmfta8Emw46HRkHQ0TQzS1jik2HTzf/r/////Sq/CABhEP1HGXXceCJd4eXGUEGSsOCYDUrAAE5gwEI/fSnuICtfSRaZHLMUF2O//NExC0SmNKwAMMMcEemRUyE2uDKhIASxYXJzrz1qlCJoXN93/3f///9Nc89gB3CsCgQrJ7S02dV7H4zNakIZFyWbCyRnOA2rEG5XsW3yrDrCqbzg8aMIqfQqhQce4eR//NExDUScNqsAHvScBCcI7d2LC41TTATcOVT3//////SZdYVxGazcQ+Yp80ve/UqXOAUWILEb6ulqh8WCplnwWTsSh2XWkbkyCzFqtEP0aZtjJpnQ3DpKLFpMh7010jD//NExD4SOSasAMPMcNEJsZev/7v//2/S5rELRn8lFlEOVVyYYIISXEYajh4pla0Os7GrX8/s7tstP01TSRnCU6ULEIjw6jQY94Do2iKHXhO6Waos1aRIl36P///7mX9m//NExEgSYSqoAMLMcLF6ytxIQYh6lbsWjn+NKZpoCquRe5DlOBZOD/Xrz6++dZpSlKKFFEKHBABRQwkMBjhMEB5InP58XaQERGa/////eBOhAVY4VLOD1aTCwNSRgo4J//NExFESGSqkAMIEcATDHUyVo/5KOw5qGNER22rd9u3fvmrNUVFIkH7mUSOrOodVAs4VIs30unmdXo/Nf/98J3OGODbAmdCjQMqZlUAikliNyAzJO3vrxEIQwfjdJcJA//NExFsRGUqcAMFKlJQXHYdagPo2r6dt2/zfj56R1IQamUeyGtBvwc+nZtqZatL9dF/////0sJi4BMnFqVagVqfCXgRGJR51mQWhM2h96B58DWUtQoO5UWGShDNP7fx+//NExGkSMVaQANFMlP8X/U61wNsyRIXTAum1HFFEcGOeEgOg1tatzHLs+gWSz//+glHnSICEjlJgURPNhOrOxPCgYnT2I4ZcwJKFkMHCFIXc15b4wnt7yy71h7ult/fm//NExHMUETqIANHQcHbNd6jb0ghy0/dkysKLRpAlaJr0cSfSQCClTiJBzqP0NIHyLHExqnjPq0dxBQnWB3nnGDKshMvBgMseD5CY3XJYB0rcTTFYLSVlMnuvd7zWv/Rw//NExHUXwUZ8ANPMcCF74vY/ffn/Zv6BHWMGGlJputkPj5y2y6bHgqnOLdp27nO9vMyf+5/tRqE6ha85X0mI/NR21jqzrt7OvrELfPVIOmvLEc785Npo5kajJG0SFzZB//NExGkhwxqMAMGSvdHZGK2UlR+BHIbAsRkxIZkUAg4hChIIBJEA48KHQAfEROGTlNR09Hv3I5nDwjUWEkU17++gSFg8HjEMqPMrnqQu2hlLGszPP/37m1+Z3Ops0+uQ//NExDUfYyKUADlYvPdNHaTr3Stnuy9Y5m3Zs9Rut7OXrZvbzzV7uQNzpwZncbR9AvSwvuGTbZ8PTTFFjcRfZNB1SDgDdcWTew1tMD6JRMJ6ctJ2HPoYtv///z7J//Qy//NExAoUkx6YABBQvJn/r16vmX+f6/+J166/tr+pq/qH4+spl75p/uKmHTm7hU5juKSRplkMMbFikHkkFFiAhUCMVhKcJwajiA6C54KBYGwXEUcPPepv///////8//////NExAoRSyKkAAhKvP///df9/6Mno9y6MzOxTVs3Ld9FYcWPKLIZDoVqoyFEikMwoNDguAgcCAwYLkDwfChQUDgCCIuHwGFT1RgKn///////ZNv///////Zd+trr9XW2//NExBcRcxKgAUU4AYqHHWRafTmbHMyKcimMWPU2aYSZo+cMlzBIEgaGEULBkKi4qA8Vg5E40OPKFTwNCeRcbEtpv9L6a32tT7JTV//uqf/1RGmJZP77OxRUaiMy0rp0//NExCQaYyqYAYdQAFMKmOecpxxKWKCqzuYPzTI+JjjqopupsqwqiyLiQRgtiCEIBoiAvETlDipALJKIgMxDi4TAtikW9R65rGmj0YiJHpEKw/UBIwCUgzrnWd/rv3Wz//NExA0UqxI0AYdoAP/av/Z+v/fR9mrrRelQtq160WQUkv++tS+r1ol4vJspJlfupjCtS+j30zUkS6XjJGbmx01GGCt6lGVJHUkfSV1L0DFi8MoC7CUOGav+sbta/xvG//NExA0RiM4UAc8oADcF7Nb/NEeZ66Ojl3ZxITBWVPb87BU6FBoLA08Gg7EVSgNcn8jq9r63HREGm04lUehVzVlg6JQVDtUAmD/HQTY6VNDit0CM9xuKzksNWpMtVqR3//NExBkQcWnMAHjGlGl/yZVDA0FjMsjzI1lyn+rRyO52f2GTBRIa28WSEkDxT//4uZCTfihpTEFNRTMuMTAwVVVVVVVVVVVVVVVVVVVVVVVVVVVVVVVVVVVVTEFNRTMu//NExCoAAANIAAAAADEwMFVVVVVVVVVVVVVVVVVVVVVVVVVVVVVVVVVVVVVVVVVVVVVVVVVVVVVVVVVVVVVVVVVVVVVVVVVVVVVVVVVVVVVVVVVVVVVVVVVVTEFNRTMu//NExH0AAANIAAAAADEwMFVVVVVVVVVVVVVVVVVVVVVVVVVVVVVVVVVVVVVVVVVVVVVVVVVVVVVVVVVVVVVVVVVVVVVVVVVVVVVVVVVVVVVVVVVVVVVVVVVVTEFNRTMu//NExKwAAANIAAAAADEwMFVVVVVVVVVVVVVVVVVVVVVVVVVVVVVVVVVVVVVVVVVVVVVVVVVVVVVVVVVVVVVVVVVVVVVVVVVVVVVVVVVVVVVVVVVVVVVVVVVVTEFNRTMu//NExKwAAANIAAAAADEwMFVVVVVVVVVVVVVVVVVVVVVVVVVVVVVVVVVVVVVVVVVVVVVVVVVVVVVVVVVVVVVVVVVVVVVVVVVVVVVVVVVVVVVVVVVVVVVVVVVVTEFNRTMu//NExKwAAANIAAAAADEwMFVVVVVVVVVVVVVVVVVVVVVVVVVVVVVVVVVVVVVVVVVVVVVVVVVVVVVVVVVVVVVVVVVVVVVVVVVVVVVVVVVVVVVVVVVVVVVVVVVVTEFNRTMu//NExKwAAANIAAAAADEwMFVVVVVVVVVVVVVVVVVVVVVVVVVVVVVVVVVVVVVVVVVVVVVVVVVVVVVVVVVVVVVVVVVVVVVVVVVVVVVVVVVVVVVVVVVVVVVVVVVVTEFNRTMu//NExKwAAANIAAAAADEwMFVVVVVVVVVVVVVVVVVVVVVVVVVVVVVVVVVVVVVVVVVVVVVVVVVVVVVVVVVVVVVVVVVVVVVVVVVVVVVVVVVVVVVVVVVVVVVVVVVVTEFNRTMu//NExKwAAANIAAAAADEwMFVVVVVVVVVVVVVVVVVVVVVVVVVVVVVVVVVVVVVVVVVVVVVVVVVVVVVVVVVVVVVVVVVVVVVVVVVVVVVVVVVVVVVVVVVVVVVVVVVVTEFNRTMu//NExKwAAANIAAAAADEwMFVVVVVVVVVVVVVVVVVVVVVVVVVVVVVVVVVVVVVVVVVVVVVVVVVVVVVVVVVVVVVVVVVVVVVVVVVVVVVVVVVVVVVVVVVVVVVVVVVVLwK4iKGY//NExKwAAANIAAAAAARmc5nGjWFgHWZtCw4AEMxC+EMs7kTK2vz9SGHIciHMQAESTJ6YQj99aDIyM++IjxnvtEeI99ojxnvfEeMe+0Q8Q960Q5kFwff/UGChwuD7w//8//NExKwAAANIAAAAAD5d5QEJz8o4MZD/ZGrtpxkNf9qHDZJA6n/zBmmPcySFS31eTms//mTET9DGcxmnOSg2/zXMJ3yoA4WhmTCE/957/lCAncuyEn/+ee/9i5GZOIKn//NExKwAAANIAAAAAH//+/1PdkbLocg4TEqGGIOEYh12MYajyRRmmcPO6biRWDDhoqEhnd7ubp8y/f2f//Rk//3H3//P//jf/8uP/mHj2913TMK0A3iwpiEhq5ICjokZ//NExP8YwZVgAVgwAJpUNQTY+0nyXoxqrV+xzTay8g1prL9ygYvSBPTNMsE8SLu73FN5m1j1/1bGa5/+//////u33/L/Cu53y2ztlZ3+7e0CuHmJ4s+N2pLfx37FFuqg//NExO8W8yqQAZlQALE1BqUgXjBiwER+IRBuYUHbt5b/34W/NnVqL/rS+/q+i/muusoLUpJMTFRaXx4mgPxeUxkuDXnwxbHyY7LuDKivmlrx9wfmVdQMy48bd4cr9ani//NExOYkWyKQAdt4ADZpuR2dV+ptf0+vrH/////////x6Vvvw7xGt/DhOCnYKXpdzjq6LWnetm4UKFEfXfSUUtyGpDagBleMd8BKTciQPOYQHEQ1Rd5p+il5R+SXz30v//NExKchsxqUAONevVfm/nPl5tOJ8eMXKiTCwTOLNqA8WGqzR9AgIUlPUgjy6d52taEBwyD0ovmWJIGySC5kPUqs+eY4l8e6757Z/8/MxTIvMXm5i06NpogaJp2scIWE//NExHMgCxqQANtWvQ3XeX2suwsOEy5eZVRVkO71G00x8NJ8RT8goqAqoDgXdb20UUbgN8Bfn+T4/1H+Mf47ztvdOn7ayh/KCNiaYs4eqWgma2/4Ymzuo8Kr3G8eIw41//NExEUgExaQANleufU8TNbXZFHWWRnfJXW9fOPjPgW/16/73//9f//e5c/NKvJtQYTfiFDkeMURyxmLGjuPw2P4r72laoHAFbGW8oiFbofJg/msS5xEAz//pDfHX8e+//NExBcWMx6gANHEvJ9fp6p6P9vKlnaa4FCzowkW7FEgA6yHVWOx3S7xXyn2ilVhIQ8tVpsj///+kyPByWKBKxioDCKEBGQi3PVCIRXFnVE6pi+ARRADuFp6xwAogblI//NExBEWSw6gAKFOuQnqb0b6f//N9PRaOo6LjDizGgRF5rEiQgFjkDjhSTKO5yHJY032SjJQ9XQjLnmTqJ6f////Qxk33OZiBjNNIml2KlZVlsWTAypAvMxsA4aD8pCL//NExAoS8q6kAKHOuU0g0QLSUO4Z+W+X+v/0+v7ertNQIyB7qcKRkxFYVEVR3Qk9WR/manX7TmpmHkzf9d////8zRFjvVmIRcAoKUHmOruXrfKcRAQ2OvxT27xVCGv5f//NExBEWAxacANiOuP9CD9C+pPv9/r9Pr6Ime4tDxsSImjgvLFj5QtR1Y8002jolbPzX9aIeqFnlt39v///+uayMapqHkj2QgxyHmu7TS0iiIceRdh1LEkgQsIjuDYlL//NExAwTUVqcANHQlCXyggBFAbvoxUNcwcJdDCP2+34/++K7hkvq6y4GAODcW6kB8lIW5rx5l6C1LM14qbeGP//7hEJRM88MuYwJmUiiahoZancwocOxXMEIMiAb6Hi///NExBEReVaIANFGlEYEMEBn6jQDB0BRa4eDws5WdW//6a/6/zqqSrrtRMjZ0T/AwrERY9/+IjodKhrJf//iL/8jM+gWEghLTocDFqljDkUjBEA1yvWYCAiYdgA3FtL5//NExB4SmMZUAO4McGTGwy2fpWAKSt0VeN2Pz53//DMZufmaiKow2wu5f3VUYp2f//0f3X/v/+5NCjcgABQwFgMBR6dL0htgnGDAYHCARBYwOJEUoEplRgYYqwxyNOYy//NExCYRkMJUAVwYAOgbckgXu8hMwXCqI9ymjjC6cJP9r+1f919fv3/d//u6Kmgoeq/DgE0DIV/ifb6LoMOP59FSLPqKhgPQXA9OcuQdjAAQfDsaMyXfIjgqFYiHMXHx//NExDIdov6sAZo4AaPZsHAoFo1FA+CAOBwmeJTfxYJZ5A8iDwRipMRSxv/ONUwfHXPHx0eZDpzv/+90ZkYzl3djXsrIv//zE+1l80owDTN4+pbymdJE426VClq1InKQ//NExA4T0TKsAdooAEMrksWw7Uov5zKUX//G6E+gzoRucPlPGgOORYwAnHYo7VYTI8owOugk4iq2sNhxAYVMf////6CMIOWpCSx8WFz6KpytjlMmoXMFcz75LjAx6Rfu//NExBEV0waoANLEuZlD7WfgKFq8pTunvINf4IAQD7yDHhrIRJr6uf/h3+5ferAwRGZGR9af1Z3eisT/////////9p0qhXYhH6MQ+dVQhTEEGLcqx7q68RiWcth3B9yS//NExAwVaq6sANNEuUkRqQWqjMy32aZow9iNWocAZuTAvBags8MMHCfRRRHqh7/9X25wYgoNHO1tP90WqKL6N//7f7/////0qznVROpqdFqo9qVqr4zFx/OoOjP8Hff2//NExAkR0ZqwAMSElHoCPVFC521iBGxDT1RoNlnQKYeuVqmFDFpCisT6autZslsg///9fOCNX9f2zoKeoA6f/9bP/+uqUxi0zkiF1ccsaw4KGyQLD1p4gjOHv+aAh5ux//NExBQRwSqwAM4OcKzf+Q73po8u/XyRybByHADiS55wppnN7f/5nj5um1gDZDBiVce/////SZZYmlgUKKXESc8Ltx8COqLJFL16MlBTlvSyJp2GkyouVo+xGEXovEmJ//NExCASEL6gANYYTJrxKjrMxo7NFMkABIM11a5J2nI1nVAZYw8JSSn/Jf////9H/GgqDQiVmYjHlgzFnQ6KfTef+wFgYRDzWZH8FUljZxRAdiITFZ46zvQ04wai8bEB//NExCoSqvKIANnEuS3P0rp//////////7WjnRWL//////5XZl3+vm3CulXq6r7kTV0KbQDchoKnHXBhkHKsOW6eCoz/UPAiJzjCEIjv5Q+cwzIE09G9uYv//8v////+//NExDISEwqIANqEuUYzQ5go6L///////L2/ruRHnIViEHqqb6lZ3CTKeo300dxYRNY+SgUqivD7d2JRaphN6t6iEMrG0zuz16KjpeEkZNW7vjGf6rP/+kaCoTYV///6//NExDwRSKaAAN5YTBK/Glg6HhKEjdUHkEQq7wMKCaj9WM49IVLkQHm8TA6YzLmCyJlD80tqAXQpoey3nDXyxkKkNFh4AqMQM6l1/R/pgqUTo//6jf////1qS0LfJhrn//NExEkQmK54AVlIABt4KDWqv27yOy/JbZbRQMvuPUIqamQBxgMSGIQhANMBBYEpJ1jljNldZ4gIpYZhvcuJFxAXZCB6or5Nfm+aIMmxxEutqvoIMnTY1LjEgQc1S/7r//NExFkgaypwAZigAFpGikGkTYmjhVZyof//Q1N/WeSnnRau3//put/ppoIdTKbPutA+ovGdVzldsOdwXWXjj3NSS5fHeuF3AG6kjhQ4yy+J8WCUChKaLByITsHofCqC//NExCoSWZ6cAc9AADho4ORBIJNONFlqmnn6//77/b5r5iatfmr2mJ6Y1r1Kex1cAyZXAMA+dHK230XZ5LnLUhEVNOQwCcDgamtXnXaWwvuSFBiC4KBhwwebtRjzpv0n//NExDMSkOKoAGPScch8/i/W8I9MqQFgC1aSOfAEYQN/+/1+qs7zQDe/c9MQskSkE/SCOChOUuQ8UccxBiZjAWICKS6GKhgUy5fRKq1XMjiypxFwX2HgbgU209bSpqO2//NExDsUUVqwAHvQlbvgqfJV7U2bGFOqUbDc2czsXoev+39q2TEJQPxCEeM8Gxnt9THmyWwfxpKikrCPkgiDnkZlK5rqqos1ZEuIEZVEiQmgVBRRsWYsmw8WqAQHKSg4//NExDwR4Ma0AJvScCpyIAYKUwq9+nZ+iuc1yaM+1t/5xJWWd/bCHmP78/linzInIf+Xtv/CfRN1wxP64fOC0eIl3p8+n618837bXlGqtYq40IB8WFCz2lslUGqr//////NExEcScWKwAMvQlP7vqt2Zq7BJrJwOALjgWupisKsxoK8LchWrZkc564jNyi3X5FV/ta2cVaYYkFIih1QNVZZ9dT4irUCtH+s7tT////9a4wqslXVnJa6xck8GtB0q//NExFARKNKgANPQcNSkExBKmFN/5TVlTomQTQpVaXnX6ichVWaN0Ler/////////ch1IKMIFAH//////kfr9N22dGDKGkUQq3/nn7YYBQyaQh5mcCqWP/G2UKlt//a1//NExF4RwwqEANtEuD3mAJ8Rk2oo+v6kOtJv//////////87FGPKGHv/////+lJzXL2rvOQxzlBFFC5kuh4GclCf5g8MljbGbQgJBCBGsBYGS2Q3LGEokWdfuT4wdl+Z//NExGoRwv6EAONEuReit51shCk1///////////SZ+j///////+5U19SlMwMg5kcopVEUx79ZJgn6A4wN0WqtfAw9EwF4zGmcrzDHUCDcGJPCrjDjBjDA7QtPgUQTAeB//NExHYR0vp8AVwQAS4nBgUya3l83C8CMDAD1CejeJcO38c4w5LiYD0KAeSRTdJX8c5fNy4XDQ3GMPUdhobmP/p/0D6Rsdc+XDqH//+ghqrUtaCaNFL///9v6aalbKmi//NExIEgyyaUAZpoAGapqr2vmWmm5Mj9EuQyKwmWo1K/lK1h//PUolPP/AI1rl+/kbF8nnRwHBgfTUq6/vF8ET3EVUXb/UoYaKbf/VWt////62UnELHkCh2ix3qbUSMN//NExFAScU6wAdlAAJpINlUKAE70zlq6EzCdLWish9ZeJbpnus4f1MbXMC4DsMEI0WfYxsh23R6OcjXUUFRqmqX/ur6X////6nyqYbcWgugu2wtA0wXu6rcl9G0yopNT//NExFkRwUqwAMtKlMtyq46xwta+kQlN9dHPjTkPCS9raOPFg6s29ZZQkEgZIkXiUaddN2dbGSnSX////+irztWZq50gqISTlynbq1qqQOAIP4sqTsXUtfVT2ZBIIKYT//NExGUReMKsAMYMTJxjBylmHNGT2dckRjRKKZFDipU2/QsUlj66lCjjeIHJ67P//SrDfZgZWqDtV622lv4sY+KRJUSnN7C/v/aUcDRh6fau7a6RtJAeZqF/SmhT2yrA//NExHIQ2M6wAMFKcGnliDVuWVBXTOuuW8uHgwZKEDY6gkH5lAwIgdHrAcAYbUmyrM3H2UtZeebX/YzOYSQ/d6Sk/XonegxVds//+55HC/m/TL6nf7/HlZK16WZabyfU//NExIESeM6sAMDGcFPyBoMbkplFsisSYswbizGAQAOPgAOAeGAXOCAQ0iov///ZkX3/94cZZzmq+fn/16fWra/zPX5ejV6XkuU6TWZLdkfdjOcpQ1yIRXozHd2K5AbO//NExIoVSxq0AECGvRgA5hhiKcxA4EcOFKvVIF////6u//kLn////ky/Dcz/ev1EyvHbT373PdT1HXMPbysQVFX2n3z/FvcatkINmby7REoyTRqhh1ZziRVnLYOQ+5Ya//NExIcQSxq0AAhEvRAUgLHDFTj////cv+cv/n////5fr9vTRX9t9UPXskxUIyFLah+6W0ZXUincqEZB9YoKKIqQ5BcTK5RQICwkFC0PBEYBwYogNMICwqEBRAAB3/////NExJgSkxqoABBQvcv///////n/uuVlaWUtKs3LmfLorGTK3vQzpsVjPK0xSlbL0MHhbLKjiJDIJB5g8HhYxnoIgCOMZ0UuJCyiJSiI1Th8M7PYDLOiZ7z3h3KncRP///NExKASAyKsABBKvNC3RK6VxEsFToiKh0iCpVT/6nhpQFQWhWJQVDW+wGY8NA0oediYqGg6WW4SuEMYBVoHiBgZE/KTLM6s9q5e5WAyjThYXOLAXcwmlbHsG3JuYLnr//NExKsRoxqcADhKvaeZrUS0CkJVsVNtAhJgo/JW7HdQVtQoY9gqPb2mNSIquxmCNgbHM3NxXjfxsjk8oJoCdgpgM/hexhyXHIPpqbFfx6EoPce5uPMeojYwQn37smgX//NExLcQaBpkAMGEABAcIJOWBykyr+S5fNy4aTdES8nDyHqYEz/pumn6Yn45h7pm58xIZR//ey3TTd9AlzMmnSkXzMnHymPAv//+gyGmm5u/49zMwPHBzkmPJITQYBMw//NExMgQMDIgAVsYAF2GasppDOkIR1us6YWaDAgBWCdNLxKxSuOXYfo52mlsMQ5XuCUI4NZSkdxDHjhpFCg0kXFw/BYCsHwBxHaEV6LfetNu7VyByvdPSrVRbQtcRfP///NExNoh6yqIAZJoAPX838vUxc3//8///P///xs3/szfER/8/EXGtTrCvV6YyArdjbgHD4HKP/LEtzVZWtu6QkEX7JuSwlXL7O+rx1WsvDSb3g2Wr/3YO/f5PbetaiM///NExKUc2wagAdlAAW72TEZLD2UZT7tU9uhi/3MJqk3hjPZYfEpZnjuCqRyOIi5yPIxhpBBkeNF7Ied1U4qUfHIcsah3X6Oqf////p+7jKnWwkhGDrncokJEFQjQSLWt//NExIQgmx6YAM4KvF6jPxHfL8zETCwIzohvrNMIggkmm8GylZoP1m8aa1+3MKZvLj8Qfn+fei3cOSjf51Klre67hS7kNu+y1QkEAWvH5wsQ0M7P1ZZUGZXIROaJhog8//NExFQgQeKYANYYmHDFLbe+Zt7Vq531xi/7d6dfbpd6mR97sIABpJhC4ZKqu//zGQA4KipUFlBFq7vdR0wGHnxeALQRezXVXM0BxpXDY6PGXWYblHcX3caj5SQ5I/1S//NExCYb2WagAM4YlFDl2vNUtnfbGOFiFrDCI3VB2JYmDSUx3Lag9WFI5ofQHhswuL5WTKXT9QvhgS3tHJ8QnBAwTiMXNIpItin+3//ssXahCj6Q4AUK/wdgIGJschM3//NExAkSYT60AHvScHtsLSO8PwNQXqV+xxa9jcZaRI0kCI1UJRjGrzIU/dg9tpx5hlGJDi00CccbTiy2rJqEtk4DpGJr66qt3/////ja/lLmlbJMG8hVC6GjFkJAT08U//NExBISAU60AHvMlPlaWKNAcH0d/AixHk9fTd9brNNautVxnVGKTNxMQco37jRj/wW7ac0dLlYoAkrf1f//////6fiAETNDCFwaQyL1DVzKpCeBywjrWlDFkZaMjMy6//NExB0SWUasAHvQcJIMyDahGqrJmCmPYXLKCcQR4sSu6qryx61Y6oOVWHG5pUg2rj9v//////1dNfKQBC6DnHctpw7ksrDlZUWUxCWwmaBb1pWsigZ4sCDFivpdg64O//NExCYR8UaoAHvMcIv7RfWWTJCWh0m2Py8x//k5vaZze5jCZwCN29X//////63uIyIrHJxzKqs0zqHZJFlcxj0qlyHyjmEvqpUzk+jMVdMTNDeiqOzocowDBEAXiRw6//NExDERMT6YAMPKcB0OoYvo/lab+oqVFv///////9Olf9JEFHzgtDIvyEIgEMoOEYkWDgoc5LJHbeKvflQDAWDInNGpqM19ihgiiMLSxJEP7f////9P//////////////NExD8SqwJsANHEuf///1dxIchFQGRDQo1JhBnEi6Jx7Bw8zMIBQPkRIFYEzmcl+7GYlAJDQEwWCkcPnocrnkDBYJBYg5El/b/////////////////////8KqEcPUU0//NExEcSSwJwANHEuQir1Yg1wmeGZFloD7mjKghQK1xNYYWoapCJPVnWjXdQNQguxe/5/uLKJE5RuSRaz//////////8cSGBsEjJxKpfQiBGHHBxs2MUawlCAmGp6qvS//NExFAPCKJwANYSTAWuI+zMU1WpQmFAXAYUBE9rPZWHyYLBeJio+iLTv/b////////////////////2V62Eihl42llP2QvGuSM/m1qYxo8mpqsGw5TWekGsMb4TDsVA//NExGYSIvpsANHEuCFBdvEmWFhEIgOEjkut///////////z7t//////////95UMJMqCCDgdULMSqMAGNaPPGLMdfDrSwK5UD0fW2eG3M3ZG3MMSEE4HyDIM82IY+C80//NExHARawpsAMlEuTIvNRiNRSVsJhlv98xf3XP3////9n////zWcxTPgyk/////////1NRVuUYUIDAIUAIGqoqnmCUR0fpuDJ1aI6tBSNLdBZuLO2tvDMSjkbJ4aQog//NExH0XCw5cANLEuZOLCj8apnENjbZUXhckGKZFJRQTwK1tD1NNErjN7SfOf////////8Xvr///1zHZ84iaPHmmtRLf/t/////9Nj2Y1B8gLjhSJZIZBcKguaOkZSYG//NExHMcQxpUANPOvQKUlwTSKUwMpItALB6NShixRAAvC6MB25jCLFuZj+AvJpQJ9xzXGc2Z4RuH+PJC3zfBXNJYr7b6mafNd4xXOf////9J9mX///5jXNWcN1YxTnb///NExFUbGwZUANvOuf0////v0T781WNGp5Eai9hGJugTGSwhlWhL/CAzKSEyzgNMgaFpiO69DUYvLq1NUlCuYSuNIW9CWy2NV3Pu6ffHcjFMoz4PyFTLyE8g33A/zX71//NExDsXYxZYAMvEuI3///8//p///+5VMVq2Qx5i0/////////toWU7muhwRRgpVL9hFyLp7egwov0IXIpPSySRK/Tyt9FN41EioD0HyTpq3Tctozk14LpCMphYUQp8z//NExDAVQeZYAMvEmDHqNBxWaNnMfGtn2///X///92eVJzPGdA4yEFf///+uKhlij5ZEsvZTmtuJz05QQcHJpc8x4jXImGA7i3noEbZz7UEaLmNvPjRVcep0oajyZX1R//NExC4TEMJcANPeTPvpswQ0BHhVgv///3XvA7SrnFl/////iURCYkeEoxUuwrpyhD9ACVBK2ExnJlYp4lqpNrgIxUi9LGyrcBna7ZmpCZJIqhKBDm5XnPO9dw6vTrRM//NExDQRUL5UAMPeTKB0Zaz//7/yy2XP////8lq61RCIzmNKEgzNEIqqs37ky7c0rkONI6oyeeE+BTB1KJmYmbN3r169gK4vwmysIMLcOJnQ2LBYVcrmZ8+fWz/V6dPV//NExEERkOY0AMPecAd/O+2HVQSE0kH7j9Ludbc3HzalnaaLKjc3KkkJEmHxbOzvH//Z///91Rf5TGVFRUBggR26Kn6Kn/VPoqouhTAwYJ1s//WKNqFhXFRRTEFNRTMu//NExE0RsiGYAGGEmDEwMFVVVVVVVVVVVVVVVVVVVVVVVVVVVVVVVVVVVVVVVVVVVVVVVVVVVVVVVVVVVVVVVVVVVVVVVVVVVVVVVVVVVVVVVVVVVVVVVVVVTEFNRTMu//NExFkAAANIAAAAADEwMFVVVVVVVVVVVVVVVVVVVVVVVVVVVVVVVVVVVVVVVVVVVVVVVVVVVVVVVVVVVVVVVVVVVVVVVVVVVVVVVVVVVVVVVVVVVVVVVVVVTEFNRTMu//NExKwAAANIAAAAADEwMFVVVVVVVVVVVVVVVVVVVVVVVVVVVVVVVVVVVVVVVVVVVVVVVVVVVVVVVVVVVVVVVVVVVVVVVVVVVVVVVVVVVVVVVVVVVVVVVVVVTEFNRTMu//NExKwAAANIAAAAADEwMFVVVVVVVVVVVVVVVVVVVVVVVVVVVVVVVVVVVVVVVVVVVVVVVVVVVVVVVVVVVVVVVVVVVVVVVVVVVVVVVVVVVVVVVVVVVVVVVVVVTEFNRTMu//NExKwAAANIAAAAADEwMFVVVVVVVVVVVVVVVVVVVVVVVVVVVVVVVVVVVVVVVVVVVVVVVVVVVVVVVVVVVVVVVVVVVVVVVVVVVVVVVVVVVVVVVVVVVVVVVVVVTEFNRTMu//NExKwAAANIAAAAADEwMFVVVVVVVVVVVVVVVVVVVVVVVVVVVVVVVVVVVVVVVVVVVVVVVVVVVVVVVVVVVVVVVVVVVVVVVVVVVVVVVVVVVVVVVVVVVVVVVVVVqTkUgw8Y//NExKwAAANIAAAAAEz4LOlJSaCCZhZxEcGDhww8gTKNSRRSDD0CZhZRyKQkcQLEAbpWUUMOIEC0DglFDDjjCxDxWISOMLAyMIWqBgdUYWqABlQtVYMqFqLJAyr9LLf///NExKwAAANIAAAAAP//rLLup0sqjp9dVX/9VVU7xN0u8lT6HqNnZK3gHIdEFPuYjA20KCS5EBIcAIOCMDaIAgkLggyK24Jis2QBtoKCQuK2hQSKEiaNIKEiaOKOSBg9//NExKwAAANIAAAAADMCFghB0zCEg4RKdEMvW0wggeT3DwAEHgNPuTTLJp/3zEKIIPbQ5NC7YhD2x6f55NPuYhERGf/vZMnsIbzyZO3u3P2EM/jYhyabY8OTJpBCAkQd//NExP8aQVUwADGGlRLmg4MYj7kspdWGZ2rLastmp7lUoIhSYmJJElZEShCJyUs4uMqLrfWmrVtySe55yTYvtaWXa5aF768uWRIwRglTzB1MDJTLEtyUYJb6JUcSJEqr//NExOkkqwXwAHpMuVzSW41U8HThyVUxyTVpFVU8vMzM5+8zPo5KpmWp5k4jOd0Zxu8zOeq/qtr1ta5s8CoxuGFl5Ei10NbboxtWRWZkbkQPOXSsPI1DUPZgfuXaSoSE//NExKkhswnsAMMMuZ2H4nq23c+estTJUrF6TZlMlQ2G0MrLY5GrWS/qwUECDofsFBAnQyP//Jlls/1YGDEbliosHn+oWFcKigkfFhX9YqLYsLitTEFNRVVVTEFNRTMu//NExHUaKdlgAMMGmDEwMFVVVVVVVVVVVVVVVVVVVVVVVVVVVVVVVVVVVVVVVVVVVVVVVVVVVVVVVVVVVVVVVVVVVVVVVVVVVVVVVVVVVVVVVVVVVVVVVVVVVVVVVVVV//NExF8AAANIAAAAAFVVVVVVVVVVVVVVVVVVVVVVVVVVVVVVVVVVVVVVVVVVVVVVVVVVVVVVVVVVVVVVVVVVVVVVVVVVVVVVVVVVVVVVVVVVVVVVVVVVVVVVVVVVVVVV//NExKwAAANIAAAAAFVVVVVVVVVVVVVVVVVVVVVVVVVVVVVVVVVVVVVVVVVVVVVVVVVVVVVVVVVVVVVVVVVVVVVVVVVVVVVVVVVVVVVVVVVVVVVVVVVVVVVVVVVVVVVV\" type=\"audio/x-wav\" />\n",
              "                    Your browser does not support the audio element.\n",
              "                </audio>\n",
              "              "
            ]
          },
          "metadata": {}
        },
        {
          "output_type": "stream",
          "name": "stdout",
          "text": [
            "============================================================\n",
            "\n",
            "wkwk exit\n",
            "Doc Bot:  I apologize, I dont understand\n",
            "Kamu:\n",
            "\n"
          ]
        },
        {
          "output_type": "display_data",
          "data": {
            "text/plain": [
              "<IPython.lib.display.Audio object>"
            ],
            "text/html": [
              "\n",
              "                <audio controls=\"controls\" autoplay=\"autoplay\">\n",
              "                    <source src=\"data:audio/x-wav;base64,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\" type=\"audio/x-wav\" />\n",
              "                    Your browser does not support the audio element.\n",
              "                </audio>\n",
              "              "
            ]
          },
          "metadata": {}
        },
        {
          "output_type": "stream",
          "name": "stdout",
          "text": [
            "============================================================\n",
            "\n",
            "quit\n",
            "Doc Bot: Bye Bye Sampai jumpa lagi\n"
          ]
        }
      ],
      "source": [
        "#Start Chat\n",
        "print(\"Doc Bot: Mau nanya apa kamu tentang kabel laut\")\n",
        "\n",
        "exit_list=['exit','bye','keluar','quit', 'sampai jumpa']\n",
        "\n",
        "while(True):\n",
        "    user_input=input()\n",
        "    if user_input.lower() in exit_list:\n",
        "        print('Doc Bot: Bye Bye Sampai jumpa lagi')\n",
        "        break\n",
        "    else:\n",
        "        if greeting_response(user_input)!= None:\n",
        "            print('Doc Bot: '+ greeting_response(user_input))\n",
        "            \n",
        "        else:\n",
        "            print('Doc Bot: '+ bot_response(user_input))\n",
        "            tts = gTTS(bot_response(user_input), lang='id')\n",
        "            tts.save('mantap.wav')\n",
        "            time.sleep(0.08)\n",
        "            print(\"Kamu:\\n\")\n",
        "            ipd.display(ipd.Audio('mantap.wav', autoplay=True))\n",
        "            \n",
        "            print(\"=\"*60 + \"\\n\")"
      ]
    },
    {
      "cell_type": "code",
      "execution_count": 19,
      "metadata": {
        "id": "H8psLH5Ji4ng"
      },
      "outputs": [],
      "source": [
        "#Coba berikan input kalimat berikut\n",
        "\n",
        "# kabel laut adalah\n",
        "# kabel laut untuk komunikasi internasional adalah"
      ]
    }
  ],
  "metadata": {
    "colab": {
      "collapsed_sections": [],
      "name": "Laili Miftachur Rohmah_JM-4&5_ChatbotAI_Text to Speech.ipynb",
      "provenance": [],
      "include_colab_link": true
    },
    "kernelspec": {
      "display_name": "Python 3",
      "language": "python",
      "name": "python3"
    },
    "language_info": {
      "codemirror_mode": {
        "name": "ipython",
        "version": 3
      },
      "file_extension": ".py",
      "mimetype": "text/x-python",
      "name": "python",
      "nbconvert_exporter": "python",
      "pygments_lexer": "ipython3",
      "version": "3.8.8"
    }
  },
  "nbformat": 4,
  "nbformat_minor": 0
}